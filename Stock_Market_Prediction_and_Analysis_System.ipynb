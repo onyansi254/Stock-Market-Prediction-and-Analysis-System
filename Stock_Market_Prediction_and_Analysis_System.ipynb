{
  "nbformat": 4,
  "nbformat_minor": 0,
  "metadata": {
    "colab": {
      "provenance": [],
      "gpuType": "T4"
    },
    "kernelspec": {
      "name": "python3",
      "display_name": "Python 3"
    },
    "language_info": {
      "name": "python"
    },
    "accelerator": "GPU"
  },
  "cells": [
    {
      "cell_type": "markdown",
      "source": [
        "The Stock Market Prediction and Analysis System is a comprehensive project designed to forecast stock prices and provide detailed market insights. The main goal is to equip investors and traders with the tools and information they need to make smarter, more strategic decisions in the stock market. Here’s what the project aims to do:\n",
        "\n",
        "### Objectives:\n",
        "\n",
        "- **Predict Stock Prices**: Create models that can accurately forecast future stock prices using historical data and current market conditions.\n",
        "- **Analyze Market Trends**: Provide insights into market trends and predict potential future movements through both technical and fundamental analysis.\n",
        "- **Assess Market Sentiment**: Evaluate market sentiment from various sources, such as news articles and social media, to understand how it impacts stock prices.\n"
      ],
      "metadata": {
        "id": "NQDrwKN9lCha"
      }
    },
    {
      "cell_type": "markdown",
      "source": [
        "**Step 1: Collect Historical Stock Price Data**"
      ],
      "metadata": {
        "id": "dfLQTbnYpia9"
      }
    },
    {
      "cell_type": "code",
      "source": [
        "import pandas as pd"
      ],
      "metadata": {
        "id": "YU2IHmqYrmdA"
      },
      "execution_count": 3,
      "outputs": []
    },
    {
      "cell_type": "code",
      "execution_count": 4,
      "metadata": {
        "colab": {
          "base_uri": "https://localhost:8080/"
        },
        "id": "n8gDxs5qko4M",
        "outputId": "51c8a30a-dc1f-41d2-be69-f7af00c95e2d"
      },
      "outputs": [
        {
          "output_type": "stream",
          "name": "stdout",
          "text": [
            "Requirement already satisfied: yfinance in /usr/local/lib/python3.10/dist-packages (0.2.40)\n",
            "Requirement already satisfied: pandas>=1.3.0 in /usr/local/lib/python3.10/dist-packages (from yfinance) (2.0.3)\n",
            "Requirement already satisfied: numpy>=1.16.5 in /usr/local/lib/python3.10/dist-packages (from yfinance) (1.25.2)\n",
            "Requirement already satisfied: requests>=2.31 in /usr/local/lib/python3.10/dist-packages (from yfinance) (2.31.0)\n",
            "Requirement already satisfied: multitasking>=0.0.7 in /usr/local/lib/python3.10/dist-packages (from yfinance) (0.0.11)\n",
            "Requirement already satisfied: lxml>=4.9.1 in /usr/local/lib/python3.10/dist-packages (from yfinance) (4.9.4)\n",
            "Requirement already satisfied: platformdirs>=2.0.0 in /usr/local/lib/python3.10/dist-packages (from yfinance) (4.2.2)\n",
            "Requirement already satisfied: pytz>=2022.5 in /usr/local/lib/python3.10/dist-packages (from yfinance) (2023.4)\n",
            "Requirement already satisfied: frozendict>=2.3.4 in /usr/local/lib/python3.10/dist-packages (from yfinance) (2.4.4)\n",
            "Requirement already satisfied: peewee>=3.16.2 in /usr/local/lib/python3.10/dist-packages (from yfinance) (3.17.5)\n",
            "Requirement already satisfied: beautifulsoup4>=4.11.1 in /usr/local/lib/python3.10/dist-packages (from yfinance) (4.12.3)\n",
            "Requirement already satisfied: html5lib>=1.1 in /usr/local/lib/python3.10/dist-packages (from yfinance) (1.1)\n",
            "Requirement already satisfied: soupsieve>1.2 in /usr/local/lib/python3.10/dist-packages (from beautifulsoup4>=4.11.1->yfinance) (2.5)\n",
            "Requirement already satisfied: six>=1.9 in /usr/local/lib/python3.10/dist-packages (from html5lib>=1.1->yfinance) (1.16.0)\n",
            "Requirement already satisfied: webencodings in /usr/local/lib/python3.10/dist-packages (from html5lib>=1.1->yfinance) (0.5.1)\n",
            "Requirement already satisfied: python-dateutil>=2.8.2 in /usr/local/lib/python3.10/dist-packages (from pandas>=1.3.0->yfinance) (2.8.2)\n",
            "Requirement already satisfied: tzdata>=2022.1 in /usr/local/lib/python3.10/dist-packages (from pandas>=1.3.0->yfinance) (2024.1)\n",
            "Requirement already satisfied: charset-normalizer<4,>=2 in /usr/local/lib/python3.10/dist-packages (from requests>=2.31->yfinance) (3.3.2)\n",
            "Requirement already satisfied: idna<4,>=2.5 in /usr/local/lib/python3.10/dist-packages (from requests>=2.31->yfinance) (3.7)\n",
            "Requirement already satisfied: urllib3<3,>=1.21.1 in /usr/local/lib/python3.10/dist-packages (from requests>=2.31->yfinance) (2.0.7)\n",
            "Requirement already satisfied: certifi>=2017.4.17 in /usr/local/lib/python3.10/dist-packages (from requests>=2.31->yfinance) (2024.2.2)\n"
          ]
        }
      ],
      "source": [
        "pip install yfinance # used for accessing and downloading historical market data from Yahoo Finance\n"
      ]
    },
    {
      "cell_type": "markdown",
      "source": [
        "Downloading stock market"
      ],
      "metadata": {
        "id": "7CW6hRKoqrtV"
      }
    },
    {
      "cell_type": "code",
      "source": [
        "import yfinance as yf  # Import the yfinance library\n"
      ],
      "metadata": {
        "id": "dAq_J1QEsiJH"
      },
      "execution_count": 5,
      "outputs": []
    },
    {
      "cell_type": "code",
      "source": [
        "# Define the stock ticker and the period of data to collect\n",
        "ticker = 'AAPL'  # Example: Apple Inc.\n",
        "start_date = '2020-01-01'  #Sets the starting date for the data collection period to January 1, 2020\n",
        "end_date = '2023-01-01'  #Sets the ending date for the data collection period to January 1, 2023\n",
        "\n",
        "# Download the historical stock data\n",
        "stock_data = yf.download(ticker, start=start_date, end=end_date)\n",
        "\n",
        "# Display the first few rows of the dataframe\n",
        "print(stock_data.head())"
      ],
      "metadata": {
        "colab": {
          "base_uri": "https://localhost:8080/"
        },
        "id": "Jj4g9FQaqf53",
        "outputId": "2494df46-e089-40d3-b99a-12c35fafd0da"
      },
      "execution_count": 6,
      "outputs": [
        {
          "output_type": "stream",
          "name": "stderr",
          "text": [
            "\r[*********************100%%**********************]  1 of 1 completed"
          ]
        },
        {
          "output_type": "stream",
          "name": "stdout",
          "text": [
            "                 Open       High        Low      Close  Adj Close     Volume\n",
            "Date                                                                        \n",
            "2020-01-02  74.059998  75.150002  73.797501  75.087502  72.960464  135480400\n",
            "2020-01-03  74.287498  75.144997  74.125000  74.357498  72.251122  146322800\n",
            "2020-01-06  73.447502  74.989998  73.187500  74.949997  72.826851  118387200\n",
            "2020-01-07  74.959999  75.224998  74.370003  74.597504  72.484337  108872000\n",
            "2020-01-08  74.290001  76.110001  74.290001  75.797501  73.650360  132079200\n"
          ]
        },
        {
          "output_type": "stream",
          "name": "stderr",
          "text": [
            "\n"
          ]
        }
      ]
    },
    {
      "cell_type": "markdown",
      "source": [
        "Gather addittiona Data"
      ],
      "metadata": {
        "id": "CvTYPLezvAtm"
      }
    },
    {
      "cell_type": "code",
      "source": [
        "# Define the period for additional data collection\n",
        "additional_start_date = '2023-01-02'\n",
        "additional_end_date = '2024-01-01'\n",
        "\n",
        "# Download the additional historical stock data\n",
        "additional_data = yf.download(ticker, start=additional_start_date, end=additional_end_date)\n",
        "\n",
        "# Display the first few rows of the additional dataset\n",
        "print(additional_data.head())\n"
      ],
      "metadata": {
        "colab": {
          "base_uri": "https://localhost:8080/"
        },
        "id": "rVq_9N0BvLNY",
        "outputId": "f5b62fed-ae92-4f56-ed48-858520203e33"
      },
      "execution_count": 7,
      "outputs": [
        {
          "output_type": "stream",
          "name": "stderr",
          "text": [
            "\r[*********************100%%**********************]  1 of 1 completed"
          ]
        },
        {
          "output_type": "stream",
          "name": "stdout",
          "text": [
            "                  Open        High         Low       Close   Adj Close  \\\n",
            "Date                                                                     \n",
            "2023-01-03  130.279999  130.899994  124.169998  125.070000  124.048042   \n",
            "2023-01-04  126.889999  128.660004  125.080002  126.360001  125.327507   \n",
            "2023-01-05  127.129997  127.769997  124.760002  125.019997  123.998444   \n",
            "2023-01-06  126.010002  130.289993  124.889999  129.619995  128.560852   \n",
            "2023-01-09  130.470001  133.410004  129.889999  130.149994  129.086517   \n",
            "\n",
            "               Volume  \n",
            "Date                   \n",
            "2023-01-03  112117500  \n",
            "2023-01-04   89113600  \n",
            "2023-01-05   80962700  \n",
            "2023-01-06   87754700  \n",
            "2023-01-09   70790800  \n"
          ]
        },
        {
          "output_type": "stream",
          "name": "stderr",
          "text": [
            "\n"
          ]
        }
      ]
    },
    {
      "cell_type": "markdown",
      "source": [
        "**Combine the Datasets**"
      ],
      "metadata": {
        "id": "pkX8FmsWvQ7z"
      }
    },
    {
      "cell_type": "code",
      "source": [
        "# Combine the initial data and additional data\n",
        "combined_data = pd.concat([stock_data, additional_data])\n",
        "\n",
        "# Display the first few rows of the combined dataset\n",
        "print(combined_data.head())\n",
        "print(combined_data.tail())\n"
      ],
      "metadata": {
        "colab": {
          "base_uri": "https://localhost:8080/"
        },
        "id": "2jtesPJ3vbs0",
        "outputId": "8089137b-142c-40fb-9ca4-eef348f8b427"
      },
      "execution_count": 8,
      "outputs": [
        {
          "output_type": "stream",
          "name": "stdout",
          "text": [
            "                 Open       High        Low      Close  Adj Close     Volume\n",
            "Date                                                                        \n",
            "2020-01-02  74.059998  75.150002  73.797501  75.087502  72.960464  135480400\n",
            "2020-01-03  74.287498  75.144997  74.125000  74.357498  72.251122  146322800\n",
            "2020-01-06  73.447502  74.989998  73.187500  74.949997  72.826851  118387200\n",
            "2020-01-07  74.959999  75.224998  74.370003  74.597504  72.484337  108872000\n",
            "2020-01-08  74.290001  76.110001  74.290001  75.797501  73.650360  132079200\n",
            "                  Open        High         Low       Close   Adj Close  \\\n",
            "Date                                                                     \n",
            "2023-12-22  195.179993  195.410004  192.970001  193.600006  193.091385   \n",
            "2023-12-26  193.610001  193.889999  192.830002  193.050003  192.542831   \n",
            "2023-12-27  192.490005  193.500000  191.089996  193.149994  192.642548   \n",
            "2023-12-28  194.139999  194.660004  193.169998  193.580002  193.071426   \n",
            "2023-12-29  193.899994  194.399994  191.729996  192.529999  192.024185   \n",
            "\n",
            "              Volume  \n",
            "Date                  \n",
            "2023-12-22  37122800  \n",
            "2023-12-26  28919300  \n",
            "2023-12-27  48087700  \n",
            "2023-12-28  34049900  \n",
            "2023-12-29  42628800  \n"
          ]
        }
      ]
    },
    {
      "cell_type": "markdown",
      "source": [
        "**Check for and Handle Missing Values**"
      ],
      "metadata": {
        "id": "LBKDUREMvy0c"
      }
    },
    {
      "cell_type": "code",
      "source": [
        "# Check for missing values in the combined dataset\n",
        "missing_values = combined_data.isnull().sum()\n",
        "print(missing_values)\n"
      ],
      "metadata": {
        "colab": {
          "base_uri": "https://localhost:8080/"
        },
        "id": "E_Br8Np9v2xb",
        "outputId": "c411dcc8-4b78-4779-8a9c-f336f5701656"
      },
      "execution_count": 9,
      "outputs": [
        {
          "output_type": "stream",
          "name": "stdout",
          "text": [
            "Open         0\n",
            "High         0\n",
            "Low          0\n",
            "Close        0\n",
            "Adj Close    0\n",
            "Volume       0\n",
            "dtype: int64\n"
          ]
        }
      ]
    },
    {
      "cell_type": "code",
      "source": [
        "# Adjust pandas display settings to show all columns\n",
        "pd.set_option('display.max_columns', None)\n",
        "\n",
        "# Print the DataFrame to see all columns\n",
        "print(combined_data)"
      ],
      "metadata": {
        "colab": {
          "base_uri": "https://localhost:8080/"
        },
        "id": "sqSQDttdw31Z",
        "outputId": "94ff24bf-5201-4750-b3dc-2e501313156d"
      },
      "execution_count": 10,
      "outputs": [
        {
          "output_type": "stream",
          "name": "stdout",
          "text": [
            "                  Open        High         Low       Close   Adj Close  \\\n",
            "Date                                                                     \n",
            "2020-01-02   74.059998   75.150002   73.797501   75.087502   72.960464   \n",
            "2020-01-03   74.287498   75.144997   74.125000   74.357498   72.251122   \n",
            "2020-01-06   73.447502   74.989998   73.187500   74.949997   72.826851   \n",
            "2020-01-07   74.959999   75.224998   74.370003   74.597504   72.484337   \n",
            "2020-01-08   74.290001   76.110001   74.290001   75.797501   73.650360   \n",
            "...                ...         ...         ...         ...         ...   \n",
            "2023-12-22  195.179993  195.410004  192.970001  193.600006  193.091385   \n",
            "2023-12-26  193.610001  193.889999  192.830002  193.050003  192.542831   \n",
            "2023-12-27  192.490005  193.500000  191.089996  193.149994  192.642548   \n",
            "2023-12-28  194.139999  194.660004  193.169998  193.580002  193.071426   \n",
            "2023-12-29  193.899994  194.399994  191.729996  192.529999  192.024185   \n",
            "\n",
            "               Volume  \n",
            "Date                   \n",
            "2020-01-02  135480400  \n",
            "2020-01-03  146322800  \n",
            "2020-01-06  118387200  \n",
            "2020-01-07  108872000  \n",
            "2020-01-08  132079200  \n",
            "...               ...  \n",
            "2023-12-22   37122800  \n",
            "2023-12-26   28919300  \n",
            "2023-12-27   48087700  \n",
            "2023-12-28   34049900  \n",
            "2023-12-29   42628800  \n",
            "\n",
            "[1006 rows x 6 columns]\n"
          ]
        }
      ]
    },
    {
      "cell_type": "code",
      "source": [
        "# One-liner to display names of all columns\n",
        "print(\"Column names:\", combined_data.columns.tolist())"
      ],
      "metadata": {
        "colab": {
          "base_uri": "https://localhost:8080/"
        },
        "id": "Ii2f40IexGtI",
        "outputId": "37d5948e-e99f-4f87-8cef-58c1f78a9ff2"
      },
      "execution_count": 11,
      "outputs": [
        {
          "output_type": "stream",
          "name": "stdout",
          "text": [
            "Column names: ['Open', 'High', 'Low', 'Close', 'Adj Close', 'Volume']\n"
          ]
        }
      ]
    },
    {
      "cell_type": "markdown",
      "source": [
        "Dropping less important columns"
      ],
      "metadata": {
        "id": "V6To4tbnzwDx"
      }
    },
    {
      "cell_type": "code",
      "source": [
        "# Define a threshold for considering columns with missing values as less important\n",
        "missing_threshold = 0.2  # 20% threshold"
      ],
      "metadata": {
        "id": "6f0p0SeDyYp6"
      },
      "execution_count": 12,
      "outputs": []
    },
    {
      "cell_type": "code",
      "source": [
        "# Drop columns with missing values exceeding the threshold\n",
        "columns_to_drop = combined_data.columns[combined_data.isnull().mean() > missing_threshold]\n",
        "cleaned_combined_data = combined_data.drop(columns=columns_to_drop)\n",
        "\n",
        "# Display the cleaned DataFrame\n",
        "print(cleaned_combined_data.head())"
      ],
      "metadata": {
        "colab": {
          "base_uri": "https://localhost:8080/"
        },
        "id": "RJYKtTujz8Dl",
        "outputId": "053814b8-ecaa-45dc-c016-64298f1a4da6"
      },
      "execution_count": 13,
      "outputs": [
        {
          "output_type": "stream",
          "name": "stdout",
          "text": [
            "                 Open       High        Low      Close  Adj Close     Volume\n",
            "Date                                                                        \n",
            "2020-01-02  74.059998  75.150002  73.797501  75.087502  72.960464  135480400\n",
            "2020-01-03  74.287498  75.144997  74.125000  74.357498  72.251122  146322800\n",
            "2020-01-06  73.447502  74.989998  73.187500  74.949997  72.826851  118387200\n",
            "2020-01-07  74.959999  75.224998  74.370003  74.597504  72.484337  108872000\n",
            "2020-01-08  74.290001  76.110001  74.290001  75.797501  73.650360  132079200\n"
          ]
        }
      ]
    },
    {
      "cell_type": "markdown",
      "source": [
        "**Summary Statistics**"
      ],
      "metadata": {
        "id": "2I-DS-nz13uO"
      }
    },
    {
      "cell_type": "code",
      "source": [
        "# Display summary statistics\n",
        "cleaned_combined_data = cleaned_combined_data.describe()\n",
        "print(cleaned_combined_data)\n"
      ],
      "metadata": {
        "colab": {
          "base_uri": "https://localhost:8080/"
        },
        "id": "hx5fDkCG06Yy",
        "outputId": "128de885-ca75-4fd6-edd2-65930313b6d1"
      },
      "execution_count": 14,
      "outputs": [
        {
          "output_type": "stream",
          "name": "stdout",
          "text": [
            "              Open         High          Low        Close    Adj Close  \\\n",
            "count  1006.000000  1006.000000  1006.000000  1006.000000  1006.000000   \n",
            "mean    140.675507   142.321389   139.143536   140.808131   139.024960   \n",
            "std      33.310018    33.430571    33.179199    33.313857    33.615819   \n",
            "min      57.020000    57.125000    53.152500    56.092499    54.632893   \n",
            "25%     123.682503   125.030003   122.157499   123.592501   121.328167   \n",
            "50%     145.540001   147.264999   144.120003   145.860001   143.920906   \n",
            "75%     166.302498   168.147503   164.815002   166.214996   164.457199   \n",
            "max     198.020004   199.619995   197.000000   198.110001   197.589523   \n",
            "\n",
            "             Volume  \n",
            "count  1.006000e+03  \n",
            "mean   9.895211e+07  \n",
            "std    5.439653e+07  \n",
            "min    2.404830e+07  \n",
            "25%    6.407675e+07  \n",
            "50%    8.467540e+07  \n",
            "75%    1.155069e+08  \n",
            "max    4.265100e+08  \n"
          ]
        }
      ]
    },
    {
      "cell_type": "markdown",
      "source": [
        "This is the summary in table format:\n",
        "\n",
        "| Statistic          | Open        | High        | Low         | Close       | Adj Close   | Volume            |\n",
        "|--------------------|-------------|-------------|-------------|-------------|-------------|-------------------|\n",
        "| Count              | 1006        | 1006        | 1006        | 1006        | 1006        | 1006              |\n",
        "| Mean               | 140.68      | 142.32      | 139.14      | 140.81      | 139.02      | 9.89e+07          |\n",
        "| Standard Deviation | 33.31       | 33.43       | 33.18       | 33.31       | 33.62       | 5.44e+07          |\n",
        "| Minimum            | 57.02       | 57.13       | 53.15       | 56.09       | 54.63       | 2.40e+07          |\n",
        "| Maximum            | 198.02      | 199.62      | 197.00      | 198.11      | 197.59      | 4.27e+08          |\n",
        "| 25th Percentile   | 123.68      | 125.03      | 122.16      | 123.59      | 121.33      | 6.41e+07          |\n",
        "| 50th Percentile   | 145.54      | 147.26      | 144.12      | 145.86      | 143.92      | 8.47e+07          |\n",
        "| 75th Percentile   | 166.30      | 168.15      | 164.82      | 166.21      | 164.46      | 1.16e+08          |\n",
        "\n",
        "Explanation:\n",
        "\n",
        "- **Count**: Indicates the number of observations for each column, showing the data's completeness.\n",
        "\n",
        "- **Mean**: Represents the average value of each column, providing insight into the typical magnitude of the data.\n",
        "\n",
        "- **Standard Deviation**: Measures the dispersion or spread of values around the mean. Higher values indicate greater variability.\n",
        "\n",
        "- **Minimum and Maximum**: Identify the range of observed values for each column, highlighting the lowest and highest points in the dataset.\n",
        "\n",
        "- **25th, 50th, and 75th Percentiles**: Divide the data into quarters, indicating typical values and extremes. The 50th percentile (median) represents the middle value of the dataset."
      ],
      "metadata": {
        "id": "SlDhMwtN3XOn"
      }
    },
    {
      "cell_type": "markdown",
      "source": [
        "**Data Visualization**"
      ],
      "metadata": {
        "id": "1kuwP2sJ4PHB"
      }
    },
    {
      "cell_type": "code",
      "source": [
        "import matplotlib.pyplot as plt\n",
        "import seaborn as sns\n"
      ],
      "metadata": {
        "id": "8ubBWIYM72OX"
      },
      "execution_count": 15,
      "outputs": []
    },
    {
      "cell_type": "markdown",
      "source": [
        "*Drawing a Histogram* - useful for understanding the distribution of a single variable. They show the frequency or count of values within predefined intervals, providing insights into the data's spread and shape."
      ],
      "metadata": {
        "id": "YC8yvoTl4elw"
      }
    },
    {
      "cell_type": "code",
      "source": [
        "# Plot histograms for each numeric variable\n",
        "plt.figure(figsize=(12, 8))  # Set the size of the figure\n",
        "for i, column in enumerate(cleaned_combined_data.columns):  # Iterate over each column in the dataframe\n",
        "    plt.subplot(3, 2, i+1)  # Create subplots in a grid layout\n",
        "    cleaned_combined_data[column].hist(bins=30, color='skyblue', edgecolor='black')  # Plot the histogram of the column\n",
        "    plt.title(f'Histogram of {column}')  # Set the title of the subplot\n",
        "    plt.xlabel(column)  # Set the label for the x-axis\n",
        "    plt.ylabel('Frequency')  # Set the label for the y-axis\n",
        "plt.tight_layout()  # Adjust the layout to prevent overlapping\n",
        "plt.show()  # Display the plot\n"
      ],
      "metadata": {
        "colab": {
          "base_uri": "https://localhost:8080/",
          "height": 560
        },
        "id": "qSNNGJ822G0q",
        "outputId": "320e2b84-d0e7-4bac-cf9d-49f8d601bf4b"
      },
      "execution_count": 16,
      "outputs": [
        {
          "output_type": "display_data",
          "data": {
            "text/plain": [
              "<Figure size 1200x800 with 6 Axes>"
            ],
            "image/png": "[encoded data removed]"
          },
          "metadata": {}
        }
      ]
    },
    {
      "cell_type": "markdown",
      "source": [
        "*Boxplots* - summarize the distribution of a variable by displaying key statistics such as the median, quartiles, and potential outliers. They are particularly useful for identifying variability and comparing distributions between different variables."
      ],
      "metadata": {
        "id": "-gw1dRfM9P9p"
      }
    },
    {
      "cell_type": "code",
      "source": [
        "# Plot boxplots for each numeric variable\n",
        "plt.figure(figsize=(12, 8))  # Set the size of the figure\n",
        "cleaned_combined_data.boxplot(column=list(cleaned_combined_data.columns[:-1]))  # Plot boxplots for all numeric columns except the last one ('Volume') for better visualization\n",
        "plt.title('Boxplot of Stock Variables')  # Set the title of the plot\n",
        "plt.ylabel('Value')  # Set the label for the y-axis\n",
        "plt.xticks(rotation=45)  # Rotate the x-axis labels by 45 degrees for better readability\n",
        "plt.tight_layout()  # Adjust the layout to prevent overlapping\n",
        "plt.show()  # Display the plot\n"
      ],
      "metadata": {
        "colab": {
          "base_uri": "https://localhost:8080/",
          "height": 560
        },
        "id": "VROk1Noh9JUl",
        "outputId": "7cdd7915-8fcc-477d-8b0d-91399ce3807c"
      },
      "execution_count": 17,
      "outputs": [
        {
          "output_type": "display_data",
          "data": {
            "text/plain": [
              "<Figure size 1200x800 with 1 Axes>"
            ],
            "image/png": "[encoded data removed]"
          },
          "metadata": {}
        }
      ]
    },
    {
      "cell_type": "markdown",
      "source": [
        "*Time series plot* - used for showing trends"
      ],
      "metadata": {
        "id": "oJduN5BU_Nv0"
      }
    },
    {
      "cell_type": "code",
      "source": [
        "# Plot time series of stock closing prices\n",
        "plt.figure(figsize=(12, 6))\n",
        "plt.plot(cleaned_combined_data.index, cleaned_combined_data['Close'], color='blue', linewidth=2, label='Closing Price')\n",
        "plt.title('Time Series of Stock Closing Prices')\n",
        "plt.xlabel('Date')\n",
        "plt.ylabel('Closing Price')\n",
        "plt.grid(True)\n",
        "plt.legend()\n",
        "plt.show()\n"
      ],
      "metadata": {
        "colab": {
          "base_uri": "https://localhost:8080/",
          "height": 458
        },
        "id": "WVz8aKfZ997N",
        "outputId": "ed5771dc-2f90-422a-d602-e37a5c1f1306"
      },
      "execution_count": 18,
      "outputs": [
        {
          "output_type": "display_data",
          "data": {
            "text/plain": [
              "<Figure size 1200x600 with 1 Axes>"
            ],
            "image/png": "[encoded data removed]"
          },
          "metadata": {}
        }
      ]
    },
    {
      "cell_type": "markdown",
      "source": [
        "*Correlation Heatmap* - identify relationships between stock prices and volume, as well as potential multicollinearity issues in the data."
      ],
      "metadata": {
        "id": "qK9CIiONAIvE"
      }
    },
    {
      "cell_type": "code",
      "source": [
        "# Calculate the correlation matrix\n",
        "correlation_matrix = cleaned_combined_data.corr()\n",
        "\n",
        "# Plot the correlation heatmap\n",
        "plt.figure(figsize=(10, 8))  # Set the size of the heatmap\n",
        "sns.heatmap(correlation_matrix, annot=True, cmap='viridis', fmt=\".2f\")  # Create the heatmap with annotations, using the 'viridis' colormap\n",
        "plt.title('Correlation Heatmap For Stock')  # Set the title of the heatmap\n",
        "plt.show()  # Display the heatmap\n"
      ],
      "metadata": {
        "colab": {
          "base_uri": "https://localhost:8080/",
          "height": 699
        },
        "id": "-VBAz_gN_jP6",
        "outputId": "9707dee6-fc87-4dc7-d059-b911e0514bb3"
      },
      "execution_count": 19,
      "outputs": [
        {
          "output_type": "display_data",
          "data": {
            "text/plain": [
              "<Figure size 1000x800 with 2 Axes>"
            ],
            "image/png": "[encoded data removed]"
          },
          "metadata": {}
        }
      ]
    },
    {
      "cell_type": "markdown",
      "source": [
        "**Feature Engineering**"
      ],
      "metadata": {
        "id": "phKde1GhEnOb"
      }
    },
    {
      "cell_type": "code",
      "source": [
        "!wget http://prdownloads.sourceforge.net/ta-lib/ta-lib-0.4.0-src.tar.gz\n",
        "!tar -xzvf ta-lib-0.4.0-src.tar.gz\n",
        "%cd ta-lib\n",
        "!./configure --prefix=/usr\n",
        "!make\n",
        "!make install\n",
        "!pip install TA-Lib\n",
        "\n"
      ],
      "metadata": {
        "colab": {
          "base_uri": "https://localhost:8080/"
        },
        "id": "C1aOU0hdHEMd",
        "outputId": "3f833024-7efa-4c35-b04d-65ba26ad9de4"
      },
      "execution_count": 20,
      "outputs": [
        {
          "output_type": "stream",
          "name": "stdout",
          "text": [
            "--2024-05-27 07:47:34--  http://prdownloads.sourceforge.net/ta-lib/ta-lib-0.4.0-src.tar.gz\n",
            "Resolving prdownloads.sourceforge.net (prdownloads.sourceforge.net)... 204.68.111.105\n",
            "Connecting to prdownloads.sourceforge.net (prdownloads.sourceforge.net)|204.68.111.105|:80... connected.\n",
            "HTTP request sent, awaiting response... 301 Moved Permanently\n",
            "Location: http://downloads.sourceforge.net/project/ta-lib/ta-lib/0.4.0/ta-lib-0.4.0-src.tar.gz [following]\n",
            "--2024-05-27 07:47:34--  http://downloads.sourceforge.net/project/ta-lib/ta-lib/0.4.0/ta-lib-0.4.0-src.tar.gz\n",
            "Resolving downloads.sourceforge.net (downloads.sourceforge.net)... 204.68.111.105\n",
            "Reusing existing connection to prdownloads.sourceforge.net:80.\n",
            "HTTP request sent, awaiting response... 302 Found\n",
            "Location: http://psychz.dl.sourceforge.net/project/ta-lib/ta-lib/0.4.0/ta-lib-0.4.0-src.tar.gz?viasf=1 [following]\n",
            "--2024-05-27 07:47:34--  http://psychz.dl.sourceforge.net/project/ta-lib/ta-lib/0.4.0/ta-lib-0.4.0-src.tar.gz?viasf=1\n",
            "Resolving psychz.dl.sourceforge.net (psychz.dl.sourceforge.net)... 208.87.241.191\n",
            "Connecting to psychz.dl.sourceforge.net (psychz.dl.sourceforge.net)|208.87.241.191|:80... connected.\n",
            "HTTP request sent, awaiting response... 200 OK\n",
            "Length: 1330299 (1.3M) [application/x-gzip]\n",
            "Saving to: ‘ta-lib-0.4.0-src.tar.gz.2’\n",
            "\n",
            "ta-lib-0.4.0-src.ta 100%[===================>]   1.27M  4.49MB/s    in 0.3s    \n",
            "\n",
            "2024-05-27 07:47:35 (4.49 MB/s) - ‘ta-lib-0.4.0-src.tar.gz.2’ saved [1330299/1330299]\n",
            "\n",
            "ta-lib/\n",
            "ta-lib/config.sub\n",
            "ta-lib/aclocal.m4\n",
            "ta-lib/CHANGELOG.TXT\n",
            "ta-lib/include/\n",
            "ta-lib/include/ta_abstract.h\n",
            "ta-lib/include/ta_func.h\n",
            "ta-lib/include/ta_common.h\n",
            "ta-lib/include/ta_config.h.in\n",
            "ta-lib/include/Makefile.am\n",
            "ta-lib/include/ta_libc.h\n",
            "ta-lib/include/ta_defs.h\n",
            "ta-lib/missing\n",
            "ta-lib/ta-lib.spec.in\n",
            "ta-lib/config.guess\n",
            "ta-lib/Makefile.in\n",
            "ta-lib/ta-lib.dpkg.in\n",
            "ta-lib/Makefile.am\n",
            "ta-lib/autogen.sh\n",
            "ta-lib/install-sh\n",
            "ta-lib/configure\n",
            "ta-lib/depcomp\n",
            "ta-lib/HISTORY.TXT\n",
            "ta-lib/configure.in\n",
            "ta-lib/autom4te.cache/\n",
            "ta-lib/autom4te.cache/output.0\n",
            "ta-lib/autom4te.cache/requests\n",
            "ta-lib/autom4te.cache/output.1\n",
            "ta-lib/autom4te.cache/traces.0\n",
            "ta-lib/autom4te.cache/traces.1\n",
            "ta-lib/ltmain.sh\n",
            "ta-lib/ta-lib-config.in\n",
            "ta-lib/src/\n",
            "ta-lib/src/ta_func/\n",
            "ta-lib/src/ta_func/ta_MACDFIX.c\n",
            "ta-lib/src/ta_func/ta_CDLPIERCING.c\n",
            "ta-lib/src/ta_func/ta_DIV.c\n",
            "ta-lib/src/ta_func/ta_ROCR100.c\n",
            "ta-lib/src/ta_func/ta_ADXR.c\n",
            "ta-lib/src/ta_func/ta_MAVP.c\n",
            "ta-lib/src/ta_func/ta_CDLCLOSINGMARUBOZU.c\n",
            "ta-lib/src/ta_func/ta_COSH.c\n",
            "ta-lib/src/ta_func/ta_EXP.c\n",
            "ta-lib/src/ta_func/ta_MINMAXINDEX.c\n",
            "ta-lib/src/ta_func/ta_SQRT.c\n",
            "ta-lib/src/ta_func/ta_FLOOR.c\n",
            "ta-lib/src/ta_func/ta_CDLCONCEALBABYSWALL.c\n",
            "ta-lib/src/ta_func/ta_NATR.c\n",
            "ta-lib/src/ta_func/ta_CDLHARAMICROSS.c\n",
            "ta-lib/src/ta_func/ta_MINUS_DM.c\n",
            "ta-lib/src/ta_func/ta_LOG10.c\n",
            "ta-lib/src/ta_func/ta_LINEARREG_ANGLE.c\n",
            "ta-lib/src/ta_func/ta_RSI.c\n",
            "ta-lib/src/ta_func/ta_CDLABANDONEDBABY.c\n",
            "ta-lib/src/ta_func/ta_SAR.c\n",
            "ta-lib/src/ta_func/ta_CDLBREAKAWAY.c\n",
            "ta-lib/src/ta_func/ta_CDLDRAGONFLYDOJI.c\n",
            "ta-lib/src/ta_func/ta_CDLHIGHWAVE.c\n",
            "ta-lib/src/ta_func/ta_CDLKICKING.c\n",
            "ta-lib/src/ta_func/ta_CDLDOJISTAR.c\n",
            "ta-lib/src/ta_func/ta_VAR.c\n",
            "ta-lib/src/ta_func/ta_CDLMATCHINGLOW.c\n",
            "ta-lib/src/ta_func/ta_CDLGAPSIDESIDEWHITE.c\n",
            "ta-lib/src/ta_func/ta_CDLMARUBOZU.c\n",
            "ta-lib/src/ta_func/ta_AROONOSC.c\n",
            "ta-lib/src/ta_func/ta_WCLPRICE.c\n",
            "ta-lib/src/ta_func/ta_CDLEVENINGDOJISTAR.c\n",
            "ta-lib/src/ta_func/ta_CDL3INSIDE.c\n",
            "ta-lib/src/ta_func/ta_OBV.c\n",
            "ta-lib/src/ta_func/ta_AROON.c\n",
            "ta-lib/src/ta_func/ta_CDLBELTHOLD.c\n",
            "ta-lib/src/ta_func/ta_CDLSPINNINGTOP.c\n",
            "ta-lib/src/ta_func/ta_AD.c\n",
            "ta-lib/src/ta_func/ta_MAX.c\n",
            "ta-lib/src/ta_func/ta_CDLENGULFING.c\n",
            "ta-lib/src/ta_func/ta_MINMAX.c\n",
            "ta-lib/src/ta_func/ta_CDLINNECK.c\n",
            "ta-lib/src/ta_func/ta_STDDEV.c\n",
            "ta-lib/src/ta_func/ta_NVI.c\n",
            "ta-lib/src/ta_func/ta_CDLHAMMER.c\n",
            "ta-lib/src/ta_func/ta_ASIN.c\n",
            "ta-lib/src/ta_func/ta_SUM.c\n",
            "ta-lib/src/ta_func/ta_STOCH.c\n",
            "ta-lib/src/ta_func/ta_CDLLONGLEGGEDDOJI.c\n",
            "ta-lib/src/ta_func/ta_MEDPRICE.c\n",
            "ta-lib/src/ta_func/ta_CDL3STARSINSOUTH.c\n",
            "ta-lib/src/ta_func/ta_HT_TRENDMODE.c\n",
            "ta-lib/src/ta_func/ta_BBANDS.c\n",
            "ta-lib/src/ta_func/ta_CDLMORNINGSTAR.c\n",
            "ta-lib/src/ta_func/ta_HT_DCPHASE.c\n",
            "ta-lib/src/ta_func/ta_CDLLONGLINE.c\n",
            "ta-lib/src/ta_func/ta_TAN.c\n",
            "ta-lib/src/ta_func/ta_SMA.c\n",
            "ta-lib/src/ta_func/ta_DX.c\n",
            "ta-lib/src/ta_func/ta_MIDPOINT.c\n",
            "ta-lib/src/ta_func/ta_CDL2CROWS.c\n",
            "ta-lib/src/ta_func/ta_CORREL.c\n",
            "ta-lib/src/ta_func/ta_CDL3BLACKCROWS.c\n",
            "ta-lib/src/ta_func/ta_ADD.c\n",
            "ta-lib/src/ta_func/Makefile.in\n",
            "ta-lib/src/ta_func/ta_CDLTHRUSTING.c\n",
            "ta-lib/src/ta_func/ta_SUB.c\n",
            "ta-lib/src/ta_func/ta_CDLSTALLEDPATTERN.c\n",
            "ta-lib/src/ta_func/ta_CDLTRISTAR.c\n",
            "ta-lib/src/ta_func/ta_MA.c\n",
            "ta-lib/src/ta_func/ta_HT_SINE.c\n",
            "ta-lib/src/ta_func/ta_ACOS.c\n",
            "ta-lib/src/ta_func/ta_CDLSTICKSANDWICH.c\n",
            "ta-lib/src/ta_func/ta_SINH.c\n",
            "ta-lib/src/ta_func/ta_utility.h\n",
            "ta-lib/src/ta_func/ta_CDLSHORTLINE.c\n",
            "ta-lib/src/ta_func/ta_ATAN.c\n",
            "ta-lib/src/ta_func/ta_CDLADVANCEBLOCK.c\n",
            "ta-lib/src/ta_func/ta_CDLKICKINGBYLENGTH.c\n",
            "ta-lib/src/ta_func/ta_CDLSHOOTINGSTAR.c\n",
            "ta-lib/src/ta_func/ta_ROCR.c\n",
            "ta-lib/src/ta_func/ta_WMA.c\n",
            "ta-lib/src/ta_func/ta_CDLDARKCLOUDCOVER.c\n",
            "ta-lib/src/ta_func/ta_CDLXSIDEGAP3METHODS.c\n",
            "ta-lib/src/ta_func/ta_TYPPRICE.c\n",
            "ta-lib/src/ta_func/ta_CDL3WHITESOLDIERS.c\n",
            "ta-lib/src/ta_func/Makefile.am\n",
            "ta-lib/src/ta_func/ta_MACDEXT.c\n",
            "ta-lib/src/ta_func/ta_ADX.c\n",
            "ta-lib/src/ta_func/ta_PLUS_DM.c\n",
            "ta-lib/src/ta_func/ta_CDLUPSIDEGAP2CROWS.c\n",
            "ta-lib/src/ta_func/ta_LN.c\n",
            "ta-lib/src/ta_func/ta_DEMA.c\n",
            "ta-lib/src/ta_func/ta_CDL3OUTSIDE.c\n",
            "ta-lib/src/ta_func/ta_CDLTASUKIGAP.c\n",
            "ta-lib/src/ta_func/ta_MAMA.c\n",
            "ta-lib/src/ta_func/ta_CDLMORNINGDOJISTAR.c\n",
            "ta-lib/src/ta_func/ta_PLUS_DI.c\n",
            "ta-lib/src/ta_func/ta_MININDEX.c\n",
            "ta-lib/src/ta_func/ta_COS.c\n",
            "ta-lib/src/ta_func/ta_HT_TRENDLINE.c\n",
            "ta-lib/src/ta_func/ta_MIDPRICE.c\n",
            "ta-lib/src/ta_func/ta_CEIL.c\n",
            "ta-lib/src/ta_func/ta_TRIMA.c\n",
            "ta-lib/src/ta_func/ta_CDLSEPARATINGLINES.c\n",
            "ta-lib/src/ta_func/ta_ROCP.c\n",
            "ta-lib/src/ta_func/ta_CDLHOMINGPIGEON.c\n",
            "ta-lib/src/ta_func/ta_CDLHANGINGMAN.c\n",
            "ta-lib/src/ta_func/ta_AVGPRICE.c\n",
            "ta-lib/src/ta_func/ta_APO.c\n",
            "ta-lib/src/ta_func/ta_CDLRISEFALL3METHODS.c\n",
            "ta-lib/src/ta_func/ta_TRANGE.c\n",
            "ta-lib/src/ta_func/ta_TSF.c\n",
            "ta-lib/src/ta_func/ta_LINEARREG.c\n",
            "ta-lib/src/ta_func/ta_PVI.c\n",
            "ta-lib/src/ta_func/ta_CDLHIKKAKEMOD.c\n",
            "ta-lib/src/ta_func/ta_MFI.c\n",
            "ta-lib/src/ta_func/ta_CDLHARAMI.c\n",
            "ta-lib/src/ta_func/ta_MACD.c\n",
            "ta-lib/src/ta_func/ta_BETA.c\n",
            "ta-lib/src/ta_func/ta_CDLINVERTEDHAMMER.c\n",
            "ta-lib/src/ta_func/ta_LINEARREG_SLOPE.c\n",
            "ta-lib/src/ta_func/ta_STOCHF.c\n",
            "ta-lib/src/ta_func/ta_MIN.c\n",
            "ta-lib/src/ta_func/ta_CDLIDENTICAL3CROWS.c\n",
            "ta-lib/src/ta_func/ta_CDLRICKSHAWMAN.c\n",
            "ta-lib/src/ta_func/ta_T3.c\n",
            "ta-lib/src/ta_func/ta_CDLMATHOLD.c\n",
            "ta-lib/src/ta_func/ta_CDLUNIQUE3RIVER.c\n",
            "ta-lib/src/ta_func/ta_ADOSC.c\n",
            "ta-lib/src/ta_func/ta_MAXINDEX.c\n",
            "ta-lib/src/ta_func/ta_ULTOSC.c\n",
            "ta-lib/src/ta_func/ta_TRIX.c\n",
            "ta-lib/src/ta_func/ta_MOM.c\n",
            "ta-lib/src/ta_func/ta_CDLDOJI.c\n",
            "ta-lib/src/ta_func/ta_EMA.c\n",
            "ta-lib/src/ta_func/ta_STOCHRSI.c\n",
            "ta-lib/src/ta_func/ta_ROC.c\n",
            "ta-lib/src/ta_func/ta_CDLEVENINGSTAR.c\n",
            "ta-lib/src/ta_func/ta_CDLCOUNTERATTACK.c\n",
            "ta-lib/src/ta_func/ta_LINEARREG_INTERCEPT.c\n",
            "ta-lib/src/ta_func/ta_SAREXT.c\n",
            "ta-lib/src/ta_func/ta_WILLR.c\n",
            "ta-lib/src/ta_func/ta_MULT.c\n",
            "ta-lib/src/ta_func/ta_ATR.c\n",
            "ta-lib/src/ta_func/ta_BOP.c\n",
            "ta-lib/src/ta_func/ta_CMO.c\n",
            "ta-lib/src/ta_func/ta_CDLONNECK.c\n",
            "ta-lib/src/ta_func/ta_CCI.c\n",
            "ta-lib/src/ta_func/ta_CDLLADDERBOTTOM.c\n",
            "ta-lib/src/ta_func/ta_HT_PHASOR.c\n",
            "ta-lib/src/ta_func/ta_utility.c\n",
            "ta-lib/src/ta_func/ta_PPO.c\n",
            "ta-lib/src/ta_func/ta_CDLHIKKAKE.c\n",
            "ta-lib/src/ta_func/ta_HT_DCPERIOD.c\n",
            "ta-lib/src/ta_func/ta_CDL3LINESTRIKE.c\n",
            "ta-lib/src/ta_func/ta_TEMA.c\n",
            "ta-lib/src/ta_func/ta_SIN.c\n",
            "ta-lib/src/ta_func/ta_MINUS_DI.c\n",
            "ta-lib/src/ta_func/ta_KAMA.c\n",
            "ta-lib/src/ta_func/ta_TANH.c\n",
            "ta-lib/src/ta_func/ta_CDLTAKURI.c\n",
            "ta-lib/src/ta_func/ta_CDLGRAVESTONEDOJI.c\n",
            "ta-lib/src/ta_common/\n",
            "ta-lib/src/ta_common/ta_pragma.h\n",
            "ta-lib/src/ta_common/ta_magic_nb.h\n",
            "ta-lib/src/ta_common/ta_retcode.csv\n",
            "ta-lib/src/ta_common/Makefile.in\n",
            "ta-lib/src/ta_common/Makefile.am\n",
            "ta-lib/src/ta_common/ta_memory.h\n",
            "ta-lib/src/ta_common/ta_version.c\n",
            "ta-lib/src/ta_common/ta_global.h\n",
            "ta-lib/src/ta_common/ta_global.c\n",
            "ta-lib/src/ta_common/ta_retcode.c\n",
            "ta-lib/src/Makefile.in\n",
            "ta-lib/src/ta_abstract/\n",
            "ta-lib/src/ta_abstract/frames/\n",
            "ta-lib/src/ta_abstract/frames/ta_frame.c\n",
            "ta-lib/src/ta_abstract/frames/ta_frame.h\n",
            "ta-lib/src/ta_abstract/excel_glue.c\n",
            "ta-lib/src/ta_abstract/ta_frame_priv.h\n",
            "ta-lib/src/ta_abstract/ta_func_api.c\n",
            "ta-lib/src/ta_abstract/Makefile.in\n",
            "ta-lib/src/ta_abstract/ta_def_ui.h\n",
            "ta-lib/src/ta_abstract/Makefile.am\n",
            "ta-lib/src/ta_abstract/ta_abstract.c\n",
            "ta-lib/src/ta_abstract/ta_group_idx.c\n",
            "ta-lib/src/ta_abstract/tables/\n",
            "ta-lib/src/ta_abstract/tables/table_u.c\n",
            "ta-lib/src/ta_abstract/tables/table_x.c\n",
            "ta-lib/src/ta_abstract/tables/table_r.c\n",
            "ta-lib/src/ta_abstract/tables/table_f.c\n",
            "ta-lib/src/ta_abstract/tables/table_j.c\n",
            "ta-lib/src/ta_abstract/tables/table_e.c\n",
            "ta-lib/src/ta_abstract/tables/table_t.c\n",
            "ta-lib/src/ta_abstract/tables/table_n.c\n",
            "ta-lib/src/ta_abstract/tables/table_i.c\n",
            "ta-lib/src/ta_abstract/tables/table_c.c\n",
            "ta-lib/src/ta_abstract/tables/table_l.c\n",
            "ta-lib/src/ta_abstract/tables/table_k.c\n",
            "ta-lib/src/ta_abstract/tables/table_g.c\n",
            "ta-lib/src/ta_abstract/tables/table_d.c\n",
            "ta-lib/src/ta_abstract/tables/table_h.c\n",
            "ta-lib/src/ta_abstract/tables/table_o.c\n",
            "ta-lib/src/ta_abstract/tables/table_b.c\n",
            "ta-lib/src/ta_abstract/tables/table_q.c\n",
            "ta-lib/src/ta_abstract/tables/table_v.c\n",
            "ta-lib/src/ta_abstract/tables/table_m.c\n",
            "ta-lib/src/ta_abstract/tables/table_s.c\n",
            "ta-lib/src/ta_abstract/tables/table_y.c\n",
            "ta-lib/src/ta_abstract/tables/table_p.c\n",
            "ta-lib/src/ta_abstract/tables/table_z.c\n",
            "ta-lib/src/ta_abstract/tables/table_a.c\n",
            "ta-lib/src/ta_abstract/tables/table_w.c\n",
            "ta-lib/src/ta_abstract/ta_def_ui.c\n",
            "ta-lib/src/ta_abstract/templates/\n",
            "ta-lib/src/ta_abstract/templates/ta_x.c.template\n",
            "ta-lib/src/ta_abstract/templates/ta_java_defs.h.template\n",
            "ta-lib/src/ta_abstract/templates/excel_glue.c.template\n",
            "ta-lib/src/ta_abstract/templates/ta_group_idx.c.template\n",
            "ta-lib/src/ta_abstract/templates/ta_frame.c.template\n",
            "ta-lib/src/ta_abstract/templates/CoreAnnotated.java.template\n",
            "ta-lib/src/ta_abstract/templates/ta_func.h.template\n",
            "ta-lib/src/ta_abstract/templates/ta_frame.h.template\n",
            "ta-lib/src/ta_abstract/templates/Makefile.am.template\n",
            "ta-lib/src/ta_abstract/templates/ta_func_api.c.template\n",
            "ta-lib/src/ta_abstract/templates/ta_func.swg.template\n",
            "ta-lib/src/ta_abstract/templates/ta_retcode.c.template\n",
            "ta-lib/src/ta_abstract/ta_java_defs.h\n",
            "ta-lib/src/Makefile.am\n",
            "ta-lib/src/tools/\n",
            "ta-lib/src/tools/ta_regtest/\n",
            "ta-lib/src/tools/ta_regtest/test_util.c\n",
            "ta-lib/src/tools/ta_regtest/ta_test_func.h\n",
            "ta-lib/src/tools/ta_regtest/test_data.c\n",
            "ta-lib/src/tools/ta_regtest/ta_gDataHigh.c\n",
            "ta-lib/src/tools/ta_regtest/Makefile.in\n",
            "ta-lib/src/tools/ta_regtest/test_internals.c\n",
            "ta-lib/src/tools/ta_regtest/Makefile.am\n",
            "ta-lib/src/tools/ta_regtest/ta_regtest.c\n",
            "ta-lib/src/tools/ta_regtest/ta_gDataOpen.c\n",
            "ta-lib/src/tools/ta_regtest/ta_gDataClose.c\n",
            "ta-lib/src/tools/ta_regtest/test_abstract.c\n",
            "ta-lib/src/tools/ta_regtest/ta_test_func/\n",
            "ta-lib/src/tools/ta_regtest/ta_test_func/test_bbands.c\n",
            "ta-lib/src/tools/ta_regtest/ta_test_func/test_stddev.c\n",
            "ta-lib/src/tools/ta_regtest/ta_test_func/test_1in_2out.c\n",
            "ta-lib/src/tools/ta_regtest/ta_test_func/test_sar.c\n",
            "ta-lib/src/tools/ta_regtest/ta_test_func/test_1in_1out.c\n",
            "ta-lib/src/tools/ta_regtest/ta_test_func/test_trange.c\n",
            "ta-lib/src/tools/ta_regtest/ta_test_func/test_macd.c\n",
            "ta-lib/src/tools/ta_regtest/ta_test_func/test_po.c\n",
            "ta-lib/src/tools/ta_regtest/ta_test_func/test_per_hlc.c\n",
            "ta-lib/src/tools/ta_regtest/ta_test_func/test_mom.c\n",
            "ta-lib/src/tools/ta_regtest/ta_test_func/test_per_ohlc.c\n",
            "ta-lib/src/tools/ta_regtest/ta_test_func/test_adx.c\n",
            "ta-lib/src/tools/ta_regtest/ta_test_func/test_candlestick.c\n",
            "ta-lib/src/tools/ta_regtest/ta_test_func/test_rsi.c\n",
            "ta-lib/src/tools/ta_regtest/ta_test_func/test_per_ema.c\n",
            "ta-lib/src/tools/ta_regtest/ta_test_func/test_minmax.c\n",
            "ta-lib/src/tools/ta_regtest/ta_test_func/test_per_hlcv.c\n",
            "ta-lib/src/tools/ta_regtest/ta_test_func/test_per_hl.c\n",
            "ta-lib/src/tools/ta_regtest/ta_test_func/test_stoch.c\n",
            "ta-lib/src/tools/ta_regtest/ta_test_func/test_ma.c\n",
            "ta-lib/src/tools/ta_regtest/ta_error_number.h\n",
            "ta-lib/src/tools/ta_regtest/ta_test_priv.h\n",
            "ta-lib/src/tools/ta_regtest/ReadMe.txt\n",
            "ta-lib/src/tools/ta_regtest/ta_gDataLow.c\n",
            "ta-lib/src/tools/Makefile.in\n",
            "ta-lib/src/tools/Makefile.am\n",
            "ta-lib/src/tools/gen_code/\n",
            "ta-lib/src/tools/gen_code/java/\n",
            "ta-lib/src/tools/gen_code/java/PrettyCode.java\n",
            "ta-lib/src/tools/gen_code/java/Main.java\n",
            "ta-lib/src/tools/gen_code/gen_code.c\n",
            "ta-lib/src/tools/gen_code/Makefile.in\n",
            "ta-lib/src/tools/gen_code/Makefile.am\n",
            "ta-lib/src/tools/gen_code/mcpp.exe\n",
            "/content/ta-lib\n",
            "checking for a BSD-compatible install... /usr/bin/install -c\n",
            "checking whether build environment is sane... yes\n",
            "checking for a thread-safe mkdir -p... /usr/bin/mkdir -p\n",
            "checking for gawk... no\n",
            "checking for mawk... mawk\n",
            "checking whether make sets $(MAKE)... yes\n",
            "checking for gcc... gcc\n",
            "checking for C compiler default output file name... a.out\n",
            "checking whether the C compiler works... yes\n",
            "checking whether we are cross compiling... no\n",
            "checking for suffix of executables... \n",
            "checking for suffix of object files... o\n",
            "checking whether we are using the GNU C compiler... yes\n",
            "checking whether gcc accepts -g... yes\n",
            "checking for gcc option to accept ISO C89... none needed\n",
            "checking for style of include used by make... GNU\n",
            "checking dependency style of gcc... gcc3\n",
            "checking build system type... x86_64-unknown-linux-gnu\n",
            "checking host system type... x86_64-unknown-linux-gnu\n",
            "checking for a sed that does not truncate output... /usr/bin/sed\n",
            "checking for grep that handles long lines and -e... /usr/bin/grep\n",
            "checking for egrep... /usr/bin/grep -E\n",
            "checking for ld used by gcc... /usr/bin/ld\n",
            "checking if the linker (/usr/bin/ld) is GNU ld... yes\n",
            "checking for /usr/bin/ld option to reload object files... -r\n",
            "checking for BSD-compatible nm... /usr/bin/nm -B\n",
            "checking whether ln -s works... yes\n",
            "checking how to recognise dependent libraries... pass_all\n",
            "checking how to run the C preprocessor... gcc -E\n",
            "checking for ANSI C header files... yes\n",
            "checking for sys/types.h... yes\n",
            "checking for sys/stat.h... yes\n",
            "checking for stdlib.h... yes\n",
            "checking for string.h... yes\n",
            "checking for memory.h... yes\n",
            "checking for strings.h... yes\n",
            "checking for inttypes.h... yes\n",
            "checking for stdint.h... yes\n",
            "checking for unistd.h... yes\n",
            "checking dlfcn.h usability... yes\n",
            "checking dlfcn.h presence... yes\n",
            "checking for dlfcn.h... yes\n",
            "checking for g++... g++\n",
            "checking whether we are using the GNU C++ compiler... yes\n",
            "checking whether g++ accepts -g... yes\n",
            "checking dependency style of g++... gcc3\n",
            "checking how to run the C++ preprocessor... g++ -E\n",
            "checking for g77... no\n",
            "checking for xlf... no\n",
            "checking for f77... f77\n",
            "checking whether we are using the GNU Fortran 77 compiler... yes\n",
            "checking whether f77 accepts -g... yes\n",
            "checking the maximum length of command line arguments... 32768\n",
            "checking command to parse /usr/bin/nm -B output from gcc object... ok\n",
            "checking for objdir... .libs\n",
            "checking for ar... ar\n",
            "checking for ranlib... ranlib\n",
            "checking for strip... strip\n",
            "checking if gcc supports -fno-rtti -fno-exceptions... no\n",
            "checking for gcc option to produce PIC... -fPIC\n",
            "checking if gcc PIC flag -fPIC works... yes\n",
            "checking if gcc static flag -static works... yes\n",
            "checking if gcc supports -c -o file.o... yes\n",
            "checking whether the gcc linker (/usr/bin/ld -m elf_x86_64) supports shared libraries... yes\n",
            "checking whether -lc should be explicitly linked in... no\n",
            "checking dynamic linker characteristics... GNU/Linux ld.so\n",
            "checking how to hardcode library paths into programs... immediate\n",
            "checking whether stripping libraries is possible... yes\n",
            "checking if libtool supports shared libraries... yes\n",
            "checking whether to build shared libraries... yes\n",
            "checking whether to build static libraries... yes\n",
            "configure: creating libtool\n",
            "appending configuration tag \"CXX\" to libtool\n",
            "checking for ld used by g++... /usr/bin/ld -m elf_x86_64\n",
            "checking if the linker (/usr/bin/ld -m elf_x86_64) is GNU ld... yes\n",
            "checking whether the g++ linker (/usr/bin/ld -m elf_x86_64) supports shared libraries... yes\n",
            "checking for g++ option to produce PIC... -fPIC\n",
            "checking if g++ PIC flag -fPIC works... yes\n",
            "checking if g++ static flag -static works... yes\n",
            "checking if g++ supports -c -o file.o... yes\n",
            "checking whether the g++ linker (/usr/bin/ld -m elf_x86_64) supports shared libraries... yes\n",
            "checking dynamic linker characteristics... GNU/Linux ld.so\n",
            "checking how to hardcode library paths into programs... immediate\n",
            "appending configuration tag \"F77\" to libtool\n",
            "checking if libtool supports shared libraries... yes\n",
            "checking whether to build shared libraries... yes\n",
            "checking whether to build static libraries... yes\n",
            "checking for f77 option to produce PIC... -fPIC\n",
            "checking if f77 PIC flag -fPIC works... yes\n",
            "checking if f77 static flag -static works... yes\n",
            "checking if f77 supports -c -o file.o... yes\n",
            "checking whether the f77 linker (/usr/bin/ld -m elf_x86_64) supports shared libraries... yes\n",
            "checking dynamic linker characteristics... GNU/Linux ld.so\n",
            "checking how to hardcode library paths into programs... immediate\n",
            "checking for dlopen in -ldl... yes\n",
            "checking for pthread_create in -lpthread... yes\n",
            "checking for ANSI C header files... (cached) yes\n",
            "checking float.h usability... yes\n",
            "checking float.h presence... yes\n",
            "checking for float.h... yes\n",
            "checking for inttypes.h... (cached) yes\n",
            "checking limits.h usability... yes\n",
            "checking limits.h presence... yes\n",
            "checking for limits.h... yes\n",
            "checking locale.h usability... yes\n",
            "checking locale.h presence... yes\n",
            "checking for locale.h... yes\n",
            "checking stddef.h usability... yes\n",
            "checking stddef.h presence... yes\n",
            "checking for stddef.h... yes\n",
            "checking for stdint.h... (cached) yes\n",
            "checking for stdlib.h... (cached) yes\n",
            "checking for string.h... (cached) yes\n",
            "checking for unistd.h... (cached) yes\n",
            "checking wchar.h usability... yes\n",
            "checking wchar.h presence... yes\n",
            "checking for wchar.h... yes\n",
            "checking wctype.h usability... yes\n",
            "checking wctype.h presence... yes\n",
            "checking for wctype.h... yes\n",
            "checking for an ANSI C-conforming const... yes\n",
            "checking for size_t... yes\n",
            "checking whether struct tm is in sys/time.h or time.h... time.h\n",
            "checking for working volatile... yes\n",
            "checking for ptrdiff_t... yes\n",
            "checking return type of signal handlers... void\n",
            "checking for working strcoll... yes\n",
            "checking for strftime... yes\n",
            "checking for working strtod... yes\n",
            "checking for vprintf... yes\n",
            "checking for _doprnt... no\n",
            "checking for floor... no\n",
            "checking for isascii... yes\n",
            "checking for localeconv... yes\n",
            "checking for mblen... yes\n",
            "checking for memmove... yes\n",
            "checking for memset... yes\n",
            "checking for modf... yes\n",
            "checking for pow... no\n",
            "checking for sqrt... no\n",
            "checking for strcasecmp... yes\n",
            "checking for strchr... yes\n",
            "checking for strerror... yes\n",
            "checking for strncasecmp... yes\n",
            "checking for strrchr... yes\n",
            "checking for strstr... yes\n",
            "checking for strtol... yes\n",
            "checking for strtoul... yes\n",
            "configure: creating ./config.status\n",
            "config.status: creating Makefile\n",
            "config.status: creating src/Makefile\n",
            "config.status: creating src/ta_abstract/Makefile\n",
            "config.status: creating src/ta_common/Makefile\n",
            "config.status: creating src/ta_func/Makefile\n",
            "config.status: creating src/tools/Makefile\n",
            "config.status: creating src/tools/gen_code/Makefile\n",
            "config.status: creating src/tools/ta_regtest/Makefile\n",
            "config.status: creating ta-lib-config\n",
            "config.status: creating ta-lib.spec\n",
            "config.status: creating ta-lib.dpkg\n",
            "config.status: creating include/ta_config.h\n",
            "config.status: include/ta_config.h is unchanged\n",
            "config.status: executing depfiles commands\n",
            "Making all in src\n",
            "make[1]: Entering directory '/content/ta-lib/src'\n",
            "Making all in ta_abstract\n",
            "make[2]: Entering directory '/content/ta-lib/src/ta_abstract'\n",
            "make[2]: Nothing to be done for 'all'.\n",
            "make[2]: Leaving directory '/content/ta-lib/src/ta_abstract'\n",
            "Making all in ta_common\n",
            "make[2]: Entering directory '/content/ta-lib/src/ta_common'\n",
            "make[2]: Nothing to be done for 'all'.\n",
            "make[2]: Leaving directory '/content/ta-lib/src/ta_common'\n",
            "Making all in ta_func\n",
            "make[2]: Entering directory '/content/ta-lib/src/ta_func'\n",
            "make[2]: Nothing to be done for 'all'.\n",
            "make[2]: Leaving directory '/content/ta-lib/src/ta_func'\n",
            "make[2]: Entering directory '/content/ta-lib/src'\n",
            "make[2]: Nothing to be done for 'all-am'.\n",
            "make[2]: Leaving directory '/content/ta-lib/src'\n",
            "make[1]: Leaving directory '/content/ta-lib/src'\n",
            "Making all in src/tools\n",
            "make[1]: Entering directory '/content/ta-lib/src/tools'\n",
            "Making all in gen_code\n",
            "make[2]: Entering directory '/content/ta-lib/src/tools/gen_code'\n",
            "make  gen_code\n",
            "make[3]: Entering directory '/content/ta-lib/src/tools/gen_code'\n",
            "make[3]: 'gen_code' is up to date.\n",
            "make[3]: Leaving directory '/content/ta-lib/src/tools/gen_code'\n",
            "cp gen_code ../../../bin\n",
            "make[2]: Leaving directory '/content/ta-lib/src/tools/gen_code'\n",
            "Making all in ta_regtest\n",
            "make[2]: Entering directory '/content/ta-lib/src/tools/ta_regtest'\n",
            "make[2]: Nothing to be done for 'all'.\n",
            "make[2]: Leaving directory '/content/ta-lib/src/tools/ta_regtest'\n",
            "make[2]: Entering directory '/content/ta-lib/src/tools'\n",
            "make[2]: Nothing to be done for 'all-am'.\n",
            "make[2]: Leaving directory '/content/ta-lib/src/tools'\n",
            "make[1]: Leaving directory '/content/ta-lib/src/tools'\n",
            "make[1]: Entering directory '/content/ta-lib'\n",
            "make[1]: Nothing to be done for 'all-am'.\n",
            "make[1]: Leaving directory '/content/ta-lib'\n",
            "Making install in src\n",
            "make[1]: Entering directory '/content/ta-lib/src'\n",
            "Making install in ta_abstract\n",
            "make[2]: Entering directory '/content/ta-lib/src/ta_abstract'\n",
            "make[3]: Entering directory '/content/ta-lib/src/ta_abstract'\n",
            "make[3]: Nothing to be done for 'install-exec-am'.\n",
            "test -z \"/usr/include/ta-lib/\" || /usr/bin/mkdir -p \"/usr/include/ta-lib/\"\n",
            " /usr/bin/install -c -m 644 '../../include/ta_defs.h' '/usr/include/ta-lib//ta_defs.h'\n",
            " /usr/bin/install -c -m 644 '../../include/ta_libc.h' '/usr/include/ta-lib//ta_libc.h'\n",
            " /usr/bin/install -c -m 644 '../../include/ta_abstract.h' '/usr/include/ta-lib//ta_abstract.h'\n",
            "make[3]: Leaving directory '/content/ta-lib/src/ta_abstract'\n",
            "make[2]: Leaving directory '/content/ta-lib/src/ta_abstract'\n",
            "Making install in ta_common\n",
            "make[2]: Entering directory '/content/ta-lib/src/ta_common'\n",
            "make[3]: Entering directory '/content/ta-lib/src/ta_common'\n",
            "make[3]: Nothing to be done for 'install-exec-am'.\n",
            "test -z \"/usr/include/ta-lib/\" || /usr/bin/mkdir -p \"/usr/include/ta-lib/\"\n",
            " /usr/bin/install -c -m 644 '../../include/ta_defs.h' '/usr/include/ta-lib//ta_defs.h'\n",
            " /usr/bin/install -c -m 644 '../../include/ta_libc.h' '/usr/include/ta-lib//ta_libc.h'\n",
            " /usr/bin/install -c -m 644 '../../include/ta_common.h' '/usr/include/ta-lib//ta_common.h'\n",
            "make[3]: Leaving directory '/content/ta-lib/src/ta_common'\n",
            "make[2]: Leaving directory '/content/ta-lib/src/ta_common'\n",
            "Making install in ta_func\n",
            "make[2]: Entering directory '/content/ta-lib/src/ta_func'\n",
            "make[3]: Entering directory '/content/ta-lib/src/ta_func'\n",
            "make[3]: Nothing to be done for 'install-exec-am'.\n",
            "test -z \"/usr/include/ta-lib/\" || /usr/bin/mkdir -p \"/usr/include/ta-lib/\"\n",
            " /usr/bin/install -c -m 644 '../../include/ta_defs.h' '/usr/include/ta-lib//ta_defs.h'\n",
            " /usr/bin/install -c -m 644 '../../include/ta_libc.h' '/usr/include/ta-lib//ta_libc.h'\n",
            " /usr/bin/install -c -m 644 '../../include/ta_func.h' '/usr/include/ta-lib//ta_func.h'\n",
            "make[3]: Leaving directory '/content/ta-lib/src/ta_func'\n",
            "make[2]: Leaving directory '/content/ta-lib/src/ta_func'\n",
            "make[2]: Entering directory '/content/ta-lib/src'\n",
            "make[3]: Entering directory '/content/ta-lib/src'\n",
            "test -z \"/usr/lib\" || /usr/bin/mkdir -p \"/usr/lib\"\n",
            " /bin/bash ../libtool --mode=install /usr/bin/install -c  'libta_lib.la' '/usr/lib/libta_lib.la'\n",
            "/usr/bin/install -c .libs/libta_lib.so.0.0.0 /usr/lib/libta_lib.so.0.0.0\n",
            "(cd /usr/lib && { ln -s -f libta_lib.so.0.0.0 libta_lib.so.0 || { rm -f libta_lib.so.0 && ln -s libta_lib.so.0.0.0 libta_lib.so.0; }; })\n",
            "(cd /usr/lib && { ln -s -f libta_lib.so.0.0.0 libta_lib.so || { rm -f libta_lib.so && ln -s libta_lib.so.0.0.0 libta_lib.so; }; })\n",
            "/usr/bin/install -c .libs/libta_lib.lai /usr/lib/libta_lib.la\n",
            "/usr/bin/install -c .libs/libta_lib.a /usr/lib/libta_lib.a\n",
            "chmod 644 /usr/lib/libta_lib.a\n",
            "ranlib /usr/lib/libta_lib.a\n",
            "PATH=\"$PATH:/sbin\" ldconfig -n /usr/lib\n",
            "----------------------------------------------------------------------\n",
            "Libraries have been installed in:\n",
            "   /usr/lib\n",
            "\n",
            "If you ever happen to want to link against installed libraries\n",
            "in a given directory, LIBDIR, you must either use libtool, and\n",
            "specify the full pathname of the library, or use the `-LLIBDIR'\n",
            "flag during linking and do at least one of the following:\n",
            "   - add LIBDIR to the `LD_LIBRARY_PATH' environment variable\n",
            "     during execution\n",
            "   - add LIBDIR to the `LD_RUN_PATH' environment variable\n",
            "     during linking\n",
            "   - use the `-Wl,--rpath -Wl,LIBDIR' linker flag\n",
            "   - have your system administrator add LIBDIR to `/etc/ld.so.conf'\n",
            "\n",
            "See any operating system documentation about shared libraries for\n",
            "more information, such as the ld(1) and ld.so(8) manual pages.\n",
            "----------------------------------------------------------------------\n",
            "make[3]: Nothing to be done for 'install-data-am'.\n",
            "make[3]: Leaving directory '/content/ta-lib/src'\n",
            "make[2]: Leaving directory '/content/ta-lib/src'\n",
            "make[1]: Leaving directory '/content/ta-lib/src'\n",
            "Making install in src/tools\n",
            "make[1]: Entering directory '/content/ta-lib/src/tools'\n",
            "Making install in gen_code\n",
            "make[2]: Entering directory '/content/ta-lib/src/tools/gen_code'\n",
            "make  gen_code\n",
            "make[3]: Entering directory '/content/ta-lib/src/tools/gen_code'\n",
            "make[3]: 'gen_code' is up to date.\n",
            "make[3]: Leaving directory '/content/ta-lib/src/tools/gen_code'\n",
            "cp gen_code ../../../bin\n",
            "make[3]: Entering directory '/content/ta-lib/src/tools/gen_code'\n",
            "make[3]: Nothing to be done for 'install-exec-am'.\n",
            "make[3]: Nothing to be done for 'install-data-am'.\n",
            "make[3]: Leaving directory '/content/ta-lib/src/tools/gen_code'\n",
            "make[2]: Leaving directory '/content/ta-lib/src/tools/gen_code'\n",
            "Making install in ta_regtest\n",
            "make[2]: Entering directory '/content/ta-lib/src/tools/ta_regtest'\n",
            "make[3]: Entering directory '/content/ta-lib/src/tools/ta_regtest'\n",
            "make[3]: Nothing to be done for 'install-exec-am'.\n",
            "make[3]: Nothing to be done for 'install-data-am'.\n",
            "make[3]: Leaving directory '/content/ta-lib/src/tools/ta_regtest'\n",
            "make[2]: Leaving directory '/content/ta-lib/src/tools/ta_regtest'\n",
            "make[2]: Entering directory '/content/ta-lib/src/tools'\n",
            "make[3]: Entering directory '/content/ta-lib/src/tools'\n",
            "make[3]: Nothing to be done for 'install-exec-am'.\n",
            "make[3]: Nothing to be done for 'install-data-am'.\n",
            "make[3]: Leaving directory '/content/ta-lib/src/tools'\n",
            "make[2]: Leaving directory '/content/ta-lib/src/tools'\n",
            "make[1]: Leaving directory '/content/ta-lib/src/tools'\n",
            "make[1]: Entering directory '/content/ta-lib'\n",
            "make[2]: Entering directory '/content/ta-lib'\n",
            "test -z \"/usr/bin\" || /usr/bin/mkdir -p \"/usr/bin\"\n",
            " /usr/bin/install -c 'ta-lib-config' '/usr/bin/ta-lib-config'\n",
            "make[2]: Nothing to be done for 'install-data-am'.\n",
            "make[2]: Leaving directory '/content/ta-lib'\n",
            "make[1]: Leaving directory '/content/ta-lib'\n",
            "Requirement already satisfied: TA-Lib in /usr/local/lib/python3.10/dist-packages (0.4.29)\n",
            "Requirement already satisfied: numpy in /usr/local/lib/python3.10/dist-packages (from TA-Lib) (1.25.2)\n"
          ]
        }
      ]
    },
    {
      "cell_type": "code",
      "source": [
        "import pandas as pd  # Import Pandas library as 'pd' for data manipulation and analysis\n",
        "import numpy as np   # Import NumPy library as 'np' for numerical computing\n",
        "import talib        # Import TA-Lib library for technical analysis indicators\n",
        "\n",
        "# Generate Moving Averages\n",
        "cleaned_combined_data['SMA_20'] = talib.SMA(cleaned_combined_data['Close'], timeperiod=20)  # Calculate 20-period Simple Moving Average (SMA)\n",
        "cleaned_combined_data['EMA_20'] = talib.EMA(cleaned_combined_data['Close'], timeperiod=20)  # Calculate 20-period Exponential Moving Average (EMA)\n",
        "\n",
        "# Calculate Bollinger Bands\n",
        "cleaned_combined_data['upper_band'], cleaned_combined_data['middle_band'], cleaned_combined_data['lower_band'] = talib.BBANDS(\n",
        "    cleaned_combined_data['Close'], timeperiod=20)  # Calculate Bollinger Bands with a 20-period moving average and 2 standard deviations\n",
        "\n",
        "# Compute Relative Strength Index (RSI)\n",
        "cleaned_combined_data['RSI'] = talib.RSI(cleaned_combined_data['Close'], timeperiod=14)  # Calculate 14-period Relative Strength Index (RSI)\n",
        "\n",
        "# Calculate MACD\n",
        "macd, signal, _ = talib.MACD(cleaned_combined_data['Close'], fastperiod=12, slowperiod=26, signalperiod=9)  # Calculate Moving Average Convergence Divergence (MACD)\n",
        "cleaned_combined_data['MACD'] = macd  # Store MACD values in 'MACD' column\n",
        "cleaned_combined_data['MACD_signal'] = signal  # Store MACD signal line values in 'MACD_signal' column\n",
        "\n",
        "# Generate Lagged Features\n",
        "cleaned_combined_data['lagged_close_1'] = cleaned_combined_data['Close'].shift(1)  # Generate lagged feature for 'Close' price with a lag of 1 time period\n",
        "\n",
        "# Compute Rolling Windows\n",
        "cleaned_combined_data['rolling_mean_5'] = cleaned_combined_data['Close'].rolling(window=5).mean()  # Compute 5-period rolling mean for 'Close' price\n",
        "\n",
        "# Incorporate External Features\n",
        "# (Code to incorporate sentiment scores, economic indicators, and relevant events)\n"
      ],
      "metadata": {
        "id": "_8sSUJdwAo-B"
      },
      "execution_count": 21,
      "outputs": []
    },
    {
      "cell_type": "markdown",
      "source": [
        "Importing Libraries:\n",
        "\n",
        "The code imports necessary libraries: Pandas for data manipulation, NumPy for numerical computing, and TA-Lib for technical analysis indicators.\n",
        "Generating Moving Averages (SMA, EMA):\n",
        "\n",
        "Simple Moving Average (SMA) and Exponential Moving Average (EMA) are calculated for the closing price of the stock over a 20-day period.\n",
        "Calculating Bollinger Bands:\n",
        "\n",
        "Bollinger Bands are calculated using the closing price with a 20-day moving average and 2 standard deviations.\n",
        "Computing Relative Strength Index (RSI):\n",
        "\n",
        "The Relative Strength Index (RSI) is computed based on the closing price over a 14-day period.\n",
        "Calculating MACD (Moving Average Convergence Divergence):\n",
        "\n",
        "MACD is calculated using the closing price with fast, slow, and signal periods set to 12, 26, and 9 days, respectively.\n",
        "Generating Lagged Features:\n",
        "\n",
        "A lagged feature is generated for the closing price, shifting it by one time period (e.g., one day) to capture temporal dependencies.\n",
        "Computing Rolling Windows:\n",
        "\n",
        "A rolling mean is computed for the closing price over a 5-day window to smooth out short-term fluctuations and highlight longer-term trends.\n",
        "Incorporating External Features:\n",
        "\n",
        "Placeholder for incorporating external features such as sentiment scores, economic indicators, and relevant events. This part of the code would be replaced with the actual code to incorporate these features."
      ],
      "metadata": {
        "id": "VlWNvCDzKnl7"
      }
    },
    {
      "cell_type": "code",
      "source": [
        "print(cleaned_combined_data.dtypes)\n"
      ],
      "metadata": {
        "colab": {
          "base_uri": "https://localhost:8080/"
        },
        "id": "ko5__06cGzH-",
        "outputId": "a0cfd700-3151-4b61-cb12-7c229fd7e92e"
      },
      "execution_count": 22,
      "outputs": [
        {
          "output_type": "stream",
          "name": "stdout",
          "text": [
            "Open              float64\n",
            "High              float64\n",
            "Low               float64\n",
            "Close             float64\n",
            "Adj Close         float64\n",
            "Volume            float64\n",
            "SMA_20            float64\n",
            "EMA_20            float64\n",
            "upper_band        float64\n",
            "middle_band       float64\n",
            "lower_band        float64\n",
            "RSI               float64\n",
            "MACD              float64\n",
            "MACD_signal       float64\n",
            "lagged_close_1    float64\n",
            "rolling_mean_5    float64\n",
            "dtype: object\n"
          ]
        }
      ]
    },
    {
      "cell_type": "code",
      "source": [
        "print(cleaned_combined_data.columns)"
      ],
      "metadata": {
        "colab": {
          "base_uri": "https://localhost:8080/"
        },
        "id": "D26pgemfPTBK",
        "outputId": "e0f839e3-f641-4206-f229-2d89f624477e"
      },
      "execution_count": 23,
      "outputs": [
        {
          "output_type": "stream",
          "name": "stdout",
          "text": [
            "Index(['Open', 'High', 'Low', 'Close', 'Adj Close', 'Volume', 'SMA_20',\n",
            "       'EMA_20', 'upper_band', 'middle_band', 'lower_band', 'RSI', 'MACD',\n",
            "       'MACD_signal', 'lagged_close_1', 'rolling_mean_5'],\n",
            "      dtype='object')\n"
          ]
        }
      ]
    },
    {
      "cell_type": "code",
      "source": [
        "cleaned_combined_data.head()"
      ],
      "metadata": {
        "colab": {
          "base_uri": "https://localhost:8080/",
          "height": 226
        },
        "id": "dHOr64KCTlyX",
        "outputId": "cd3b5ed5-d8a7-46f1-800b-a9158101147f"
      },
      "execution_count": 24,
      "outputs": [
        {
          "output_type": "execute_result",
          "data": {
            "text/plain": [
              "              Open         High          Low        Close    Adj Close  \\\n",
              "count  1006.000000  1006.000000  1006.000000  1006.000000  1006.000000   \n",
              "mean    140.675507   142.321389   139.143536   140.808131   139.024960   \n",
              "std      33.310018    33.430571    33.179199    33.313857    33.615819   \n",
              "min      57.020000    57.125000    53.152500    56.092499    54.632893   \n",
              "25%     123.682503   125.030003   122.157499   123.592501   121.328167   \n",
              "\n",
              "             Volume  SMA_20  EMA_20  upper_band  middle_band  lower_band  RSI  \\\n",
              "count  1.006000e+03     NaN     NaN         NaN          NaN         NaN  NaN   \n",
              "mean   9.895211e+07     NaN     NaN         NaN          NaN         NaN  NaN   \n",
              "std    5.439653e+07     NaN     NaN         NaN          NaN         NaN  NaN   \n",
              "min    2.404830e+07     NaN     NaN         NaN          NaN         NaN  NaN   \n",
              "25%    6.407675e+07     NaN     NaN         NaN          NaN         NaN  NaN   \n",
              "\n",
              "       MACD  MACD_signal  lagged_close_1  rolling_mean_5  \n",
              "count   NaN          NaN             NaN             NaN  \n",
              "mean    NaN          NaN     1006.000000             NaN  \n",
              "std     NaN          NaN      140.808131             NaN  \n",
              "min     NaN          NaN       33.313857             NaN  \n",
              "25%     NaN          NaN       56.092499      271.961398  "
            ],
            "text/html": [
              "\n",
              "  <div id=\"df-895f3735-b5c3-4f52-98cc-7c5d36b04cfc\" class=\"colab-df-container\">\n",
              "    <div>\n",
              "<style scoped>\n",
              "    .dataframe tbody tr th:only-of-type {\n",
              "        vertical-align: middle;\n",
              "    }\n",
              "\n",
              "    .dataframe tbody tr th {\n",
              "        vertical-align: top;\n",
              "    }\n",
              "\n",
              "    .dataframe thead th {\n",
              "        text-align: right;\n",
              "    }\n",
              "</style>\n",
              "<table border=\"1\" class=\"dataframe\">\n",
              "  <thead>\n",
              "    <tr style=\"text-align: right;\">\n",
              "      <th></th>\n",
              "      <th>Open</th>\n",
              "      <th>High</th>\n",
              "      <th>Low</th>\n",
              "      <th>Close</th>\n",
              "      <th>Adj Close</th>\n",
              "      <th>Volume</th>\n",
              "      <th>SMA_20</th>\n",
              "      <th>EMA_20</th>\n",
              "      <th>upper_band</th>\n",
              "      <th>middle_band</th>\n",
              "      <th>lower_band</th>\n",
              "      <th>RSI</th>\n",
              "      <th>MACD</th>\n",
              "      <th>MACD_signal</th>\n",
              "      <th>lagged_close_1</th>\n",
              "      <th>rolling_mean_5</th>\n",
              "    </tr>\n",
              "  </thead>\n",
              "  <tbody>\n",
              "    <tr>\n",
              "      <th>count</th>\n",
              "      <td>1006.000000</td>\n",
              "      <td>1006.000000</td>\n",
              "      <td>1006.000000</td>\n",
              "      <td>1006.000000</td>\n",
              "      <td>1006.000000</td>\n",
              "      <td>1.006000e+03</td>\n",
              "      <td>NaN</td>\n",
              "      <td>NaN</td>\n",
              "      <td>NaN</td>\n",
              "      <td>NaN</td>\n",
              "      <td>NaN</td>\n",
              "      <td>NaN</td>\n",
              "      <td>NaN</td>\n",
              "      <td>NaN</td>\n",
              "      <td>NaN</td>\n",
              "      <td>NaN</td>\n",
              "    </tr>\n",
              "    <tr>\n",
              "      <th>mean</th>\n",
              "      <td>140.675507</td>\n",
              "      <td>142.321389</td>\n",
              "      <td>139.143536</td>\n",
              "      <td>140.808131</td>\n",
              "      <td>139.024960</td>\n",
              "      <td>9.895211e+07</td>\n",
              "      <td>NaN</td>\n",
              "      <td>NaN</td>\n",
              "      <td>NaN</td>\n",
              "      <td>NaN</td>\n",
              "      <td>NaN</td>\n",
              "      <td>NaN</td>\n",
              "      <td>NaN</td>\n",
              "      <td>NaN</td>\n",
              "      <td>1006.000000</td>\n",
              "      <td>NaN</td>\n",
              "    </tr>\n",
              "    <tr>\n",
              "      <th>std</th>\n",
              "      <td>33.310018</td>\n",
              "      <td>33.430571</td>\n",
              "      <td>33.179199</td>\n",
              "      <td>33.313857</td>\n",
              "      <td>33.615819</td>\n",
              "      <td>5.439653e+07</td>\n",
              "      <td>NaN</td>\n",
              "      <td>NaN</td>\n",
              "      <td>NaN</td>\n",
              "      <td>NaN</td>\n",
              "      <td>NaN</td>\n",
              "      <td>NaN</td>\n",
              "      <td>NaN</td>\n",
              "      <td>NaN</td>\n",
              "      <td>140.808131</td>\n",
              "      <td>NaN</td>\n",
              "    </tr>\n",
              "    <tr>\n",
              "      <th>min</th>\n",
              "      <td>57.020000</td>\n",
              "      <td>57.125000</td>\n",
              "      <td>53.152500</td>\n",
              "      <td>56.092499</td>\n",
              "      <td>54.632893</td>\n",
              "      <td>2.404830e+07</td>\n",
              "      <td>NaN</td>\n",
              "      <td>NaN</td>\n",
              "      <td>NaN</td>\n",
              "      <td>NaN</td>\n",
              "      <td>NaN</td>\n",
              "      <td>NaN</td>\n",
              "      <td>NaN</td>\n",
              "      <td>NaN</td>\n",
              "      <td>33.313857</td>\n",
              "      <td>NaN</td>\n",
              "    </tr>\n",
              "    <tr>\n",
              "      <th>25%</th>\n",
              "      <td>123.682503</td>\n",
              "      <td>125.030003</td>\n",
              "      <td>122.157499</td>\n",
              "      <td>123.592501</td>\n",
              "      <td>121.328167</td>\n",
              "      <td>6.407675e+07</td>\n",
              "      <td>NaN</td>\n",
              "      <td>NaN</td>\n",
              "      <td>NaN</td>\n",
              "      <td>NaN</td>\n",
              "      <td>NaN</td>\n",
              "      <td>NaN</td>\n",
              "      <td>NaN</td>\n",
              "      <td>NaN</td>\n",
              "      <td>56.092499</td>\n",
              "      <td>271.961398</td>\n",
              "    </tr>\n",
              "  </tbody>\n",
              "</table>\n",
              "</div>\n",
              "    <div class=\"colab-df-buttons\">\n",
              "\n",
              "  <div class=\"colab-df-container\">\n",
              "    <button class=\"colab-df-convert\" onclick=\"convertToInteractive('df-895f3735-b5c3-4f52-98cc-7c5d36b04cfc')\"\n",
              "            title=\"Convert this dataframe to an interactive table.\"\n",
              "            style=\"display:none;\">\n",
              "\n",
              "  <svg xmlns=\"http://www.w3.org/2000/svg\" height=\"24px\" viewBox=\"0 -960 960 960\">\n",
              "    <path d=\"M120-120v-720h720v720H120Zm60-500h600v-160H180v160Zm220 220h160v-160H400v160Zm0 220h160v-160H400v160ZM180-400h160v-160H180v160Zm440 0h160v-160H620v160ZM180-180h160v-160H180v160Zm440 0h160v-160H620v160Z\"/>\n",
              "  </svg>\n",
              "    </button>\n",
              "\n",
              "  <style>\n",
              "    .colab-df-container {\n",
              "      display:flex;\n",
              "      gap: 12px;\n",
              "    }\n",
              "\n",
              "    .colab-df-convert {\n",
              "      background-color: #E8F0FE;\n",
              "      border: none;\n",
              "      border-radius: 50%;\n",
              "      cursor: pointer;\n",
              "      display: none;\n",
              "      fill: #1967D2;\n",
              "      height: 32px;\n",
              "      padding: 0 0 0 0;\n",
              "      width: 32px;\n",
              "    }\n",
              "\n",
              "    .colab-df-convert:hover {\n",
              "      background-color: #E2EBFA;\n",
              "      box-shadow: 0px 1px 2px rgba(60, 64, 67, 0.3), 0px 1px 3px 1px rgba(60, 64, 67, 0.15);\n",
              "      fill: #174EA6;\n",
              "    }\n",
              "\n",
              "    .colab-df-buttons div {\n",
              "      margin-bottom: 4px;\n",
              "    }\n",
              "\n",
              "    [theme=dark] .colab-df-convert {\n",
              "      background-color: #3B4455;\n",
              "      fill: #D2E3FC;\n",
              "    }\n",
              "\n",
              "    [theme=dark] .colab-df-convert:hover {\n",
              "      background-color: #434B5C;\n",
              "      box-shadow: 0px 1px 3px 1px rgba(0, 0, 0, 0.15);\n",
              "      filter: drop-shadow(0px 1px 2px rgba(0, 0, 0, 0.3));\n",
              "      fill: #FFFFFF;\n",
              "    }\n",
              "  </style>\n",
              "\n",
              "    <script>\n",
              "      const buttonEl =\n",
              "        document.querySelector('#df-895f3735-b5c3-4f52-98cc-7c5d36b04cfc button.colab-df-convert');\n",
              "      buttonEl.style.display =\n",
              "        google.colab.kernel.accessAllowed ? 'block' : 'none';\n",
              "\n",
              "      async function convertToInteractive(key) {\n",
              "        const element = document.querySelector('#df-895f3735-b5c3-4f52-98cc-7c5d36b04cfc');\n",
              "        const dataTable =\n",
              "          await google.colab.kernel.invokeFunction('convertToInteractive',\n",
              "                                                    [key], {});\n",
              "        if (!dataTable) return;\n",
              "\n",
              "        const docLinkHtml = 'Like what you see? Visit the ' +\n",
              "          '<a target=\"_blank\" href=https://colab.research.google.com/notebooks/data_table.ipynb>data table notebook</a>'\n",
              "          + ' to learn more about interactive tables.';\n",
              "        element.innerHTML = '';\n",
              "        dataTable['output_type'] = 'display_data';\n",
              "        await google.colab.output.renderOutput(dataTable, element);\n",
              "        const docLink = document.createElement('div');\n",
              "        docLink.innerHTML = docLinkHtml;\n",
              "        element.appendChild(docLink);\n",
              "      }\n",
              "    </script>\n",
              "  </div>\n",
              "\n",
              "\n",
              "<div id=\"df-efbe6441-570f-44de-8182-d879cea2634c\">\n",
              "  <button class=\"colab-df-quickchart\" onclick=\"quickchart('df-efbe6441-570f-44de-8182-d879cea2634c')\"\n",
              "            title=\"Suggest charts\"\n",
              "            style=\"display:none;\">\n",
              "\n",
              "<svg xmlns=\"http://www.w3.org/2000/svg\" height=\"24px\"viewBox=\"0 0 24 24\"\n",
              "     width=\"24px\">\n",
              "    <g>\n",
              "        <path d=\"M19 3H5c-1.1 0-2 .9-2 2v14c0 1.1.9 2 2 2h14c1.1 0 2-.9 2-2V5c0-1.1-.9-2-2-2zM9 17H7v-7h2v7zm4 0h-2V7h2v10zm4 0h-2v-4h2v4z\"/>\n",
              "    </g>\n",
              "</svg>\n",
              "  </button>\n",
              "\n",
              "<style>\n",
              "  .colab-df-quickchart {\n",
              "      --bg-color: #E8F0FE;\n",
              "      --fill-color: #1967D2;\n",
              "      --hover-bg-color: #E2EBFA;\n",
              "      --hover-fill-color: #174EA6;\n",
              "      --disabled-fill-color: #AAA;\n",
              "      --disabled-bg-color: #DDD;\n",
              "  }\n",
              "\n",
              "  [theme=dark] .colab-df-quickchart {\n",
              "      --bg-color: #3B4455;\n",
              "      --fill-color: #D2E3FC;\n",
              "      --hover-bg-color: #434B5C;\n",
              "      --hover-fill-color: #FFFFFF;\n",
              "      --disabled-bg-color: #3B4455;\n",
              "      --disabled-fill-color: #666;\n",
              "  }\n",
              "\n",
              "  .colab-df-quickchart {\n",
              "    background-color: var(--bg-color);\n",
              "    border: none;\n",
              "    border-radius: 50%;\n",
              "    cursor: pointer;\n",
              "    display: none;\n",
              "    fill: var(--fill-color);\n",
              "    height: 32px;\n",
              "    padding: 0;\n",
              "    width: 32px;\n",
              "  }\n",
              "\n",
              "  .colab-df-quickchart:hover {\n",
              "    background-color: var(--hover-bg-color);\n",
              "    box-shadow: 0 1px 2px rgba(60, 64, 67, 0.3), 0 1px 3px 1px rgba(60, 64, 67, 0.15);\n",
              "    fill: var(--button-hover-fill-color);\n",
              "  }\n",
              "\n",
              "  .colab-df-quickchart-complete:disabled,\n",
              "  .colab-df-quickchart-complete:disabled:hover {\n",
              "    background-color: var(--disabled-bg-color);\n",
              "    fill: var(--disabled-fill-color);\n",
              "    box-shadow: none;\n",
              "  }\n",
              "\n",
              "  .colab-df-spinner {\n",
              "    border: 2px solid var(--fill-color);\n",
              "    border-color: transparent;\n",
              "    border-bottom-color: var(--fill-color);\n",
              "    animation:\n",
              "      spin 1s steps(1) infinite;\n",
              "  }\n",
              "\n",
              "  @keyframes spin {\n",
              "    0% {\n",
              "      border-color: transparent;\n",
              "      border-bottom-color: var(--fill-color);\n",
              "      border-left-color: var(--fill-color);\n",
              "    }\n",
              "    20% {\n",
              "      border-color: transparent;\n",
              "      border-left-color: var(--fill-color);\n",
              "      border-top-color: var(--fill-color);\n",
              "    }\n",
              "    30% {\n",
              "      border-color: transparent;\n",
              "      border-left-color: var(--fill-color);\n",
              "      border-top-color: var(--fill-color);\n",
              "      border-right-color: var(--fill-color);\n",
              "    }\n",
              "    40% {\n",
              "      border-color: transparent;\n",
              "      border-right-color: var(--fill-color);\n",
              "      border-top-color: var(--fill-color);\n",
              "    }\n",
              "    60% {\n",
              "      border-color: transparent;\n",
              "      border-right-color: var(--fill-color);\n",
              "    }\n",
              "    80% {\n",
              "      border-color: transparent;\n",
              "      border-right-color: var(--fill-color);\n",
              "      border-bottom-color: var(--fill-color);\n",
              "    }\n",
              "    90% {\n",
              "      border-color: transparent;\n",
              "      border-bottom-color: var(--fill-color);\n",
              "    }\n",
              "  }\n",
              "</style>\n",
              "\n",
              "  <script>\n",
              "    async function quickchart(key) {\n",
              "      const quickchartButtonEl =\n",
              "        document.querySelector('#' + key + ' button');\n",
              "      quickchartButtonEl.disabled = true;  // To prevent multiple clicks.\n",
              "      quickchartButtonEl.classList.add('colab-df-spinner');\n",
              "      try {\n",
              "        const charts = await google.colab.kernel.invokeFunction(\n",
              "            'suggestCharts', [key], {});\n",
              "      } catch (error) {\n",
              "        console.error('Error during call to suggestCharts:', error);\n",
              "      }\n",
              "      quickchartButtonEl.classList.remove('colab-df-spinner');\n",
              "      quickchartButtonEl.classList.add('colab-df-quickchart-complete');\n",
              "    }\n",
              "    (() => {\n",
              "      let quickchartButtonEl =\n",
              "        document.querySelector('#df-efbe6441-570f-44de-8182-d879cea2634c button');\n",
              "      quickchartButtonEl.style.display =\n",
              "        google.colab.kernel.accessAllowed ? 'block' : 'none';\n",
              "    })();\n",
              "  </script>\n",
              "</div>\n",
              "\n",
              "    </div>\n",
              "  </div>\n"
            ],
            "application/vnd.google.colaboratory.intrinsic+json": {
              "type": "dataframe",
              "variable_name": "cleaned_combined_data",
              "summary": "{\n  \"name\": \"cleaned_combined_data\",\n  \"rows\": 8,\n  \"fields\": [\n    {\n      \"column\": \"Open\",\n      \"properties\": {\n        \"dtype\": \"number\",\n        \"std\": 316.71623645695695,\n        \"min\": 33.31001776940112,\n        \"max\": 1006.0,\n        \"num_unique_values\": 8,\n        \"samples\": [\n          140.67550730847458,\n          145.54000091552734,\n          1006.0\n        ],\n        \"semantic_type\": \"\",\n        \"description\": \"\"\n      }\n    },\n    {\n      \"column\": \"High\",\n      \"properties\": {\n        \"dtype\": \"number\",\n        \"std\": 316.41107226757686,\n        \"min\": 33.43057053182057,\n        \"max\": 1006.0,\n        \"num_unique_values\": 8,\n        \"samples\": [\n          142.32138935566897,\n          147.26499938964844,\n          1006.0\n        ],\n        \"semantic_type\": \"\",\n        \"description\": \"\"\n      }\n    },\n    {\n      \"column\": \"Low\",\n      \"properties\": {\n        \"dtype\": \"number\",\n        \"std\": 317.29660836468406,\n        \"min\": 33.17919879094591,\n        \"max\": 1006.0,\n        \"num_unique_values\": 8,\n        \"samples\": [\n          139.14353610317465,\n          144.12000274658203,\n          1006.0\n        ],\n        \"semantic_type\": \"\",\n        \"description\": \"\"\n      }\n    },\n    {\n      \"column\": \"Close\",\n      \"properties\": {\n        \"dtype\": \"number\",\n        \"std\": 316.7774346076196,\n        \"min\": 33.31385702299744,\n        \"max\": 1006.0,\n        \"num_unique_values\": 8,\n        \"samples\": [\n          140.80813123881225,\n          145.86000061035156,\n          1006.0\n        ],\n        \"semantic_type\": \"\",\n        \"description\": \"\"\n      }\n    },\n    {\n      \"column\": \"Adj Close\",\n      \"properties\": {\n        \"dtype\": \"number\",\n        \"std\": 317.1942655050612,\n        \"min\": 33.615818820909666,\n        \"max\": 1006.0,\n        \"num_unique_values\": 8,\n        \"samples\": [\n          139.0249598751485,\n          143.92090606689453,\n          1006.0\n        ],\n        \"semantic_type\": \"\",\n        \"description\": \"\"\n      }\n    },\n    {\n      \"column\": \"Volume\",\n      \"properties\": {\n        \"dtype\": \"number\",\n        \"std\": 133973856.17368835,\n        \"min\": 1006.0,\n        \"max\": 426510000.0,\n        \"num_unique_values\": 8,\n        \"samples\": [\n          98952110.73558648,\n          84675400.0,\n          1006.0\n        ],\n        \"semantic_type\": \"\",\n        \"description\": \"\"\n      }\n    },\n    {\n      \"column\": \"SMA_20\",\n      \"properties\": {\n        \"dtype\": \"number\",\n        \"std\": null,\n        \"min\": null,\n        \"max\": null,\n        \"num_unique_values\": 0,\n        \"samples\": [],\n        \"semantic_type\": \"\",\n        \"description\": \"\"\n      }\n    },\n    {\n      \"column\": \"EMA_20\",\n      \"properties\": {\n        \"dtype\": \"number\",\n        \"std\": null,\n        \"min\": null,\n        \"max\": null,\n        \"num_unique_values\": 0,\n        \"samples\": [],\n        \"semantic_type\": \"\",\n        \"description\": \"\"\n      }\n    },\n    {\n      \"column\": \"upper_band\",\n      \"properties\": {\n        \"dtype\": \"number\",\n        \"std\": null,\n        \"min\": null,\n        \"max\": null,\n        \"num_unique_values\": 0,\n        \"samples\": [],\n        \"semantic_type\": \"\",\n        \"description\": \"\"\n      }\n    },\n    {\n      \"column\": \"middle_band\",\n      \"properties\": {\n        \"dtype\": \"number\",\n        \"std\": null,\n        \"min\": null,\n        \"max\": null,\n        \"num_unique_values\": 0,\n        \"samples\": [],\n        \"semantic_type\": \"\",\n        \"description\": \"\"\n      }\n    },\n    {\n      \"column\": \"lower_band\",\n      \"properties\": {\n        \"dtype\": \"number\",\n        \"std\": null,\n        \"min\": null,\n        \"max\": null,\n        \"num_unique_values\": 0,\n        \"samples\": [],\n        \"semantic_type\": \"\",\n        \"description\": \"\"\n      }\n    },\n    {\n      \"column\": \"RSI\",\n      \"properties\": {\n        \"dtype\": \"number\",\n        \"std\": null,\n        \"min\": null,\n        \"max\": null,\n        \"num_unique_values\": 0,\n        \"samples\": [],\n        \"semantic_type\": \"\",\n        \"description\": \"\"\n      }\n    },\n    {\n      \"column\": \"MACD\",\n      \"properties\": {\n        \"dtype\": \"number\",\n        \"std\": null,\n        \"min\": null,\n        \"max\": null,\n        \"num_unique_values\": 0,\n        \"samples\": [],\n        \"semantic_type\": \"\",\n        \"description\": \"\"\n      }\n    },\n    {\n      \"column\": \"MACD_signal\",\n      \"properties\": {\n        \"dtype\": \"number\",\n        \"std\": null,\n        \"min\": null,\n        \"max\": null,\n        \"num_unique_values\": 0,\n        \"samples\": [],\n        \"semantic_type\": \"\",\n        \"description\": \"\"\n      }\n    },\n    {\n      \"column\": \"lagged_close_1\",\n      \"properties\": {\n        \"dtype\": \"number\",\n        \"std\": 341.80501631853025,\n        \"min\": 33.31385702299744,\n        \"max\": 1006.0,\n        \"num_unique_values\": 7,\n        \"samples\": [],\n        \"semantic_type\": \"\",\n        \"description\": \"\"\n      }\n    },\n    {\n      \"column\": \"rolling_mean_5\",\n      \"properties\": {\n        \"dtype\": \"number\",\n        \"std\": 80.61050919480789,\n        \"min\": 99.93339766762072,\n        \"max\": 271.9613975455504,\n        \"num_unique_values\": 4,\n        \"samples\": [],\n        \"semantic_type\": \"\",\n        \"description\": \"\"\n      }\n    }\n  ]\n}"
            }
          },
          "metadata": {},
          "execution_count": 24
        }
      ]
    },
    {
      "source": [
        "# @title RSI vs Closing Price\n",
        "\n",
        "import matplotlib.pyplot as plt\n",
        "plt.plot(cleaned_combined_data['RSI'], label='RSI')\n",
        "plt.plot(cleaned_combined_data['Close'], label='Close')\n",
        "plt.xlabel('Time')\n",
        "plt.ylabel('Value')\n",
        "plt.title('RSI vs Closing Price')\n",
        "_ = plt.legend()"
      ],
      "cell_type": "code",
      "execution_count": 25,
      "outputs": [
        {
          "output_type": "display_data",
          "data": {
            "text/plain": [
              "<Figure size 640x480 with 1 Axes>"
            ],
            "image/png": "[encoded data removed]"
          },
          "metadata": {}
        }
      ],
      "metadata": {
        "cellView": "form",
        "colab": {
          "base_uri": "https://localhost:8080/",
          "height": 472
        },
        "id": "Nyi_aw-zZRoR",
        "outputId": "c1686e69-7f62-4ebc-ee7b-353875d9dea0"
      }
    },
    {
      "source": [
        "# @title Closing Price vs Opening Price\n",
        "\n",
        "import matplotlib.pyplot as plt\n",
        "plt.scatter(cleaned_combined_data['Open'], cleaned_combined_data['Close'])\n",
        "plt.title('Closing Price vs Opening Price')\n",
        "plt.xlabel('Open')\n",
        "_ = plt.ylabel('Close')"
      ],
      "cell_type": "code",
      "execution_count": 26,
      "outputs": [
        {
          "output_type": "display_data",
          "data": {
            "text/plain": [
              "<Figure size 640x480 with 1 Axes>"
            ],
            "image/png": "[encoded data removed]"
          },
          "metadata": {}
        }
      ],
      "metadata": {
        "cellView": "form",
        "colab": {
          "base_uri": "https://localhost:8080/",
          "height": 472
        },
        "id": "mm2rC-TxZA0A",
        "outputId": "59571fa1-6d9d-4a7b-f740-57209c7f18e3"
      }
    },
    {
      "source": [
        "# @title High vs Low\n",
        "\n",
        "from matplotlib import pyplot as plt\n",
        "cleaned_combined_data.plot(kind='scatter', x='High', y='Low', s=32, alpha=.8)\n",
        "plt.gca().spines[['top', 'right',]].set_visible(False)"
      ],
      "cell_type": "code",
      "execution_count": 27,
      "outputs": [
        {
          "output_type": "display_data",
          "data": {
            "text/plain": [
              "<Figure size 640x480 with 1 Axes>"
            ],
            "image/png": "[encoded data removed]"
          },
          "metadata": {}
        }
      ],
      "metadata": {
        "cellView": "form",
        "colab": {
          "base_uri": "https://localhost:8080/",
          "height": 449
        },
        "id": "a2YCf-fMY2gI",
        "outputId": "3477278b-180e-4e77-b495-1fe066cdb750"
      }
    },
    {
      "source": [
        "# @title Volume vs Open Price over Time\n",
        "\n",
        "import matplotlib.pyplot as plt\n",
        "plt.plot(cleaned_combined_data['Open'], color='blue', label='Open')\n",
        "plt.plot(cleaned_combined_data['Volume'], color='orange', label='Volume')\n",
        "plt.xlabel('Time')\n",
        "plt.ylabel('Value')\n",
        "plt.title('Volume vs Open Price over Time')\n",
        "_ = plt.legend()"
      ],
      "cell_type": "code",
      "execution_count": 28,
      "outputs": [
        {
          "output_type": "display_data",
          "data": {
            "text/plain": [
              "<Figure size 640x480 with 1 Axes>"
            ],
            "image/png": "[encoded data removed]"
          },
          "metadata": {}
        }
      ],
      "metadata": {
        "cellView": "form",
        "colab": {
          "base_uri": "https://localhost:8080/",
          "height": 472
        },
        "id": "lu8QJJsYUpQq",
        "outputId": "dfe96a53-0270-4493-f725-f0469a3156d1"
      }
    },
    {
      "source": [
        "# @title Low\n",
        "\n",
        "from matplotlib import pyplot as plt\n",
        "cleaned_combined_data['Low'].plot(kind='hist', bins=20, title='Low')\n",
        "plt.gca().spines[['top', 'right',]].set_visible(False)"
      ],
      "cell_type": "code",
      "execution_count": 29,
      "outputs": [
        {
          "output_type": "display_data",
          "data": {
            "text/plain": [
              "<Figure size 640x480 with 1 Axes>"
            ],
            "image/png": "[encoded data removed]"
          },
          "metadata": {}
        }
      ],
      "metadata": {
        "cellView": "form",
        "colab": {
          "base_uri": "https://localhost:8080/",
          "height": 452
        },
        "id": "Pc7AbdnXUf6c",
        "outputId": "f1aef443-bd0d-4e32-9796-1e54826acea5"
      }
    },
    {
      "source": [
        "# @title High\n",
        "\n",
        "from matplotlib import pyplot as plt\n",
        "cleaned_combined_data['High'].plot(kind='hist', bins=20, title='High')\n",
        "plt.gca().spines[['top', 'right',]].set_visible(False)"
      ],
      "cell_type": "code",
      "execution_count": 30,
      "outputs": [
        {
          "output_type": "display_data",
          "data": {
            "text/plain": [
              "<Figure size 640x480 with 1 Axes>"
            ],
            "image/png": "[encoded data removed]"
          },
          "metadata": {}
        }
      ],
      "metadata": {
        "cellView": "form",
        "colab": {
          "base_uri": "https://localhost:8080/",
          "height": 452
        },
        "id": "1zMDdh-pUbOW",
        "outputId": "1483e84c-8cce-4f23-891f-33185b6e321c"
      }
    },
    {
      "source": [
        "# @title Open\n",
        "\n",
        "from matplotlib import pyplot as plt\n",
        "cleaned_combined_data['Open'].plot(kind='hist', bins=20, title='Open')\n",
        "plt.gca().spines[['top', 'right',]].set_visible(False)"
      ],
      "cell_type": "code",
      "execution_count": 31,
      "outputs": [
        {
          "output_type": "display_data",
          "data": {
            "text/plain": [
              "<Figure size 640x480 with 1 Axes>"
            ],
            "image/png": "[encoded data removed]"
          },
          "metadata": {}
        }
      ],
      "metadata": {
        "cellView": "form",
        "colab": {
          "base_uri": "https://localhost:8080/",
          "height": 452
        },
        "id": "30mstKD0UWiv",
        "outputId": "559f67af-afce-4e74-edf1-9784775e8b77"
      }
    },
    {
      "cell_type": "code",
      "source": [
        "from sklearn.preprocessing import StandardScaler\n",
        "numerical_columns = ['Open', 'High', 'Low', 'Close', 'Adj Close', 'Volume',\n",
        "                     'SMA_20', 'EMA_20', 'upper_band', 'middle_band', 'lower_band',\n",
        "                     'RSI', 'MACD', 'MACD_signal', 'lagged_close_1', 'rolling_mean_5']\n",
        "\n",
        "# Initialize StandardScaler\n",
        "scaler = StandardScaler()\n",
        "\n",
        "# Apply Standardization to numerical columns\n",
        "cleaned_combined_data[numerical_columns] = scaler.fit_transform(cleaned_combined_data[numerical_columns])\n"
      ],
      "metadata": {
        "colab": {
          "base_uri": "https://localhost:8080/"
        },
        "id": "U8cr7fKGUN0G",
        "outputId": "44aed14d-0219-40e8-f277-e40c4ec214a7"
      },
      "execution_count": 32,
      "outputs": [
        {
          "output_type": "stream",
          "name": "stderr",
          "text": [
            "/usr/local/lib/python3.10/dist-packages/sklearn/utils/extmath.py:1047: RuntimeWarning: invalid value encountered in divide\n",
            "  updated_mean = (last_sum + new_sum) / updated_sample_count\n",
            "/usr/local/lib/python3.10/dist-packages/sklearn/utils/extmath.py:1052: RuntimeWarning: invalid value encountered in divide\n",
            "  T = new_sum / new_sample_count\n",
            "/usr/local/lib/python3.10/dist-packages/sklearn/utils/extmath.py:1072: RuntimeWarning: invalid value encountered in divide\n",
            "  new_unnormalized_variance -= correction**2 / new_sample_count\n"
          ]
        }
      ]
    },
    {
      "cell_type": "markdown",
      "source": [
        "Trai - Test split"
      ],
      "metadata": {
        "id": "GeDxQgMiYWsl"
      }
    },
    {
      "cell_type": "code",
      "source": [
        "from sklearn.model_selection import train_test_split\n",
        "from sklearn.linear_model import LinearRegression\n",
        "from sklearn.metrics import mean_squared_error\n",
        "\n",
        "# Extracting 'High' as input feature (X) and 'Low' as target variable (y)\n",
        "X = cleaned_combined_data[['High']]  # Input feature\n",
        "y = cleaned_combined_data['Low']     # Target variable\n",
        "\n",
        "# Split data into training and testing sets\n",
        "X_train, X_test, y_train, y_test = train_test_split(X, y, test_size=0.2, random_state=42)\n",
        "\n",
        "# Create a linear regression model\n",
        "model = LinearRegression()\n",
        "\n",
        "# Fit the model to the training data\n",
        "model.fit(X_train, y_train)\n",
        "\n",
        "# Make predictions on the testing set\n",
        "y_pred = model.predict(X_test)\n",
        "\n",
        "# Evaluate the model\n",
        "mse = mean_squared_error(y_test, y_pred)\n",
        "print(f\"Mean Squared Error: {mse}\")\n",
        "\n"
      ],
      "metadata": {
        "colab": {
          "base_uri": "https://localhost:8080/"
        },
        "id": "bwQ1icgHfWFn",
        "outputId": "f35c8801-63c2-401c-e046-aaebfa4f51ff"
      },
      "execution_count": 33,
      "outputs": [
        {
          "output_type": "stream",
          "name": "stdout",
          "text": [
            "Mean Squared Error: 5.128564372578647e-06\n"
          ]
        }
      ]
    },
    {
      "cell_type": "code",
      "source": [
        "import matplotlib.pyplot as plt\n",
        "\n",
        "# Plot actual vs. predicted values\n",
        "plt.scatter(y_test, y_pred)\n",
        "plt.xlabel(\"Actual 'Low' Values\")\n",
        "plt.ylabel(\"Predicted 'Low' Values\")\n",
        "plt.title(\"Actual vs. Predicted 'Low' Values\")\n",
        "plt.show()\n"
      ],
      "metadata": {
        "colab": {
          "base_uri": "https://localhost:8080/",
          "height": 472
        },
        "id": "_ai3yKGkhM7V",
        "outputId": "90d2e04d-026f-407a-db5d-9aa05d4aaa1e"
      },
      "execution_count": 34,
      "outputs": [
        {
          "output_type": "display_data",
          "data": {
            "text/plain": [
              "<Figure size 640x480 with 1 Axes>"
            ],
            "image/png": "[encoded data removed]"
          },
          "metadata": {}
        }
      ]
    },
    {
      "cell_type": "code",
      "source": [
        "import pandas as pd\n",
        "from sklearn.model_selection import train_test_split\n",
        "from sklearn.linear_model import LinearRegression\n",
        "import pickle\n",
        "\n",
        "# Assuming cleaned_combined_data is your dataframe\n",
        "# Use 'High' as the feature and 'Low' as the target variable\n",
        "X = cleaned_combined_data[['High']]\n",
        "y = cleaned_combined_data['Low']\n",
        "\n",
        "# Split data into training and testing sets\n",
        "X_train, X_test, y_train, y_test = train_test_split(X, y, test_size=0.2, random_state=42)\n",
        "\n",
        "# Train a linear regression model\n",
        "model = LinearRegression()\n",
        "model.fit(X_train, y_train)\n",
        "\n",
        "# Save the model to a file\n",
        "with open('trained_model.pkl', 'wb') as f:\n",
        "    pickle.dump(model, f)\n",
        "\n",
        "print(\"Model trained and saved as 'trained_model.pkl'\")\n"
      ],
      "metadata": {
        "colab": {
          "base_uri": "https://localhost:8080/"
        },
        "id": "MNGuhMKPh7GO",
        "outputId": "db3c0d69-f41b-4be3-b7d1-2c12b0610896"
      },
      "execution_count": 35,
      "outputs": [
        {
          "output_type": "stream",
          "name": "stdout",
          "text": [
            "Model trained and saved as 'trained_model.pkl'\n"
          ]
        }
      ]
    },
    {
      "cell_type": "code",
      "source": [
        "!pip uninstall flask-ngrok\n"
      ],
      "metadata": {
        "colab": {
          "base_uri": "https://localhost:8080/"
        },
        "id": "ZJUU82Tt-OIu",
        "outputId": "0773c47d-8a92-4449-bc69-f9b8d27fb69f"
      },
      "execution_count": 36,
      "outputs": [
        {
          "output_type": "stream",
          "name": "stdout",
          "text": [
            "Found existing installation: flask-ngrok 0.0.25\n",
            "Uninstalling flask-ngrok-0.0.25:\n",
            "  Would remove:\n",
            "    /usr/local/lib/python3.10/dist-packages/flask_ngrok-0.0.25.dist-info/*\n",
            "    /usr/local/lib/python3.10/dist-packages/flask_ngrok.py\n",
            "Proceed (Y/n)? Y\n",
            "  Successfully uninstalled flask-ngrok-0.0.25\n"
          ]
        }
      ]
    },
    {
      "cell_type": "code",
      "source": [
        "!pip install flask-ngrok\n"
      ],
      "metadata": {
        "id": "-CEdFOUNku1m",
        "colab": {
          "base_uri": "https://localhost:8080/",
          "height": 411
        },
        "outputId": "c98c5c48-11f9-407a-93bd-cdd37100329f"
      },
      "execution_count": 37,
      "outputs": [
        {
          "output_type": "stream",
          "name": "stdout",
          "text": [
            "Collecting flask-ngrok\n",
            "  Using cached flask_ngrok-0.0.25-py3-none-any.whl (3.1 kB)\n",
            "Requirement already satisfied: Flask>=0.8 in /usr/local/lib/python3.10/dist-packages (from flask-ngrok) (2.2.5)\n",
            "Requirement already satisfied: requests in /usr/local/lib/python3.10/dist-packages (from flask-ngrok) (2.31.0)\n",
            "Requirement already satisfied: Werkzeug>=2.2.2 in /usr/local/lib/python3.10/dist-packages (from Flask>=0.8->flask-ngrok) (3.0.3)\n",
            "Requirement already satisfied: Jinja2>=3.0 in /usr/local/lib/python3.10/dist-packages (from Flask>=0.8->flask-ngrok) (3.1.4)\n",
            "Requirement already satisfied: itsdangerous>=2.0 in /usr/local/lib/python3.10/dist-packages (from Flask>=0.8->flask-ngrok) (2.2.0)\n",
            "Requirement already satisfied: click>=8.0 in /usr/local/lib/python3.10/dist-packages (from Flask>=0.8->flask-ngrok) (8.1.7)\n",
            "Requirement already satisfied: charset-normalizer<4,>=2 in /usr/local/lib/python3.10/dist-packages (from requests->flask-ngrok) (3.3.2)\n",
            "Requirement already satisfied: idna<4,>=2.5 in /usr/local/lib/python3.10/dist-packages (from requests->flask-ngrok) (3.7)\n",
            "Requirement already satisfied: urllib3<3,>=1.21.1 in /usr/local/lib/python3.10/dist-packages (from requests->flask-ngrok) (2.0.7)\n",
            "Requirement already satisfied: certifi>=2017.4.17 in /usr/local/lib/python3.10/dist-packages (from requests->flask-ngrok) (2024.2.2)\n",
            "Requirement already satisfied: MarkupSafe>=2.0 in /usr/local/lib/python3.10/dist-packages (from Jinja2>=3.0->Flask>=0.8->flask-ngrok) (2.1.5)\n",
            "Installing collected packages: flask-ngrok\n",
            "Successfully installed flask-ngrok-0.0.25\n"
          ]
        },
        {
          "output_type": "display_data",
          "data": {
            "application/vnd.colab-display-data+json": {
              "pip_warning": {
                "packages": [
                  "flask_ngrok"
                ]
              },
              "id": "17524834626849eb92d8ac86ba446182"
            }
          },
          "metadata": {}
        }
      ]
    },
    {
      "cell_type": "code",
      "source": [
        "\n",
        "\n",
        "# Import necessary libraries\n",
        "import pandas as pd\n",
        "from sklearn.linear_model import LinearRegression\n",
        "import pickle\n",
        "from flask_ngrok import run_with_ngrok\n",
        "from flask import Flask, request, jsonify\n",
        "\n",
        "# Load the trained model\n",
        "with open('trained_model.pkl', 'rb') as f:\n",
        "    model = pickle.load(f)\n",
        "\n",
        "# Create a Flask app\n",
        "app = Flask(__name__)\n",
        "run_with_ngrok(app)  # Start ngrok when app is run\n",
        "\n",
        "# Define a route for prediction\n",
        "@app.route('/predict', methods=['POST'])\n",
        "def predict():\n",
        "    # Get the data from the request\n",
        "    data = request.json\n",
        "    high = data['High']\n",
        "\n",
        "    # Make prediction\n",
        "    prediction = model.predict([[high]])[0]\n",
        "\n",
        "    # Return the prediction\n",
        "    return jsonify({'Low': prediction})\n",
        "\n",
        "# Run the app\n",
        "if __name__ == '__main__':\n",
        "    app.run()\n",
        ""
      ],
      "metadata": {
        "colab": {
          "base_uri": "https://localhost:8080/"
        },
        "id": "JRmggAs1tQIR",
        "outputId": "eaa32892-8580-4e8e-a804-3b3943601b72"
      },
      "execution_count": null,
      "outputs": [
        {
          "output_type": "stream",
          "name": "stdout",
          "text": [
            " * Serving Flask app '__main__'\n",
            " * Debug mode: off\n"
          ]
        },
        {
          "output_type": "stream",
          "name": "stderr",
          "text": [
            "INFO:werkzeug:\u001b[31m\u001b[1mWARNING: This is a development server. Do not use it in a production deployment. Use a production WSGI server instead.\u001b[0m\n",
            " * Running on http://127.0.0.1:5000\n",
            "INFO:werkzeug:\u001b[33mPress CTRL+C to quit\u001b[0m\n",
            "Exception in thread Thread-13:\n",
            "Traceback (most recent call last):\n",
            "  File \"/usr/local/lib/python3.10/dist-packages/urllib3/connection.py\", line 203, in _new_conn\n",
            "    sock = connection.create_connection(\n",
            "  File \"/usr/local/lib/python3.10/dist-packages/urllib3/util/connection.py\", line 85, in create_connection\n",
            "    raise err\n",
            "  File \"/usr/local/lib/python3.10/dist-packages/urllib3/util/connection.py\", line 73, in create_connection\n",
            "    sock.connect(sa)\n",
            "ConnectionRefusedError: [Errno 111] Connection refused\n",
            "\n",
            "The above exception was the direct cause of the following exception:\n",
            "\n",
            "Traceback (most recent call last):\n",
            "  File \"/usr/local/lib/python3.10/dist-packages/urllib3/connectionpool.py\", line 791, in urlopen\n",
            "    response = self._make_request(\n",
            "  File \"/usr/local/lib/python3.10/dist-packages/urllib3/connectionpool.py\", line 497, in _make_request\n",
            "    conn.request(\n",
            "  File \"/usr/local/lib/python3.10/dist-packages/urllib3/connection.py\", line 395, in request\n",
            "    self.endheaders()\n",
            "  File \"/usr/lib/python3.10/http/client.py\", line 1278, in endheaders\n",
            "    self._send_output(message_body, encode_chunked=encode_chunked)\n",
            "  File \"/usr/lib/python3.10/http/client.py\", line 1038, in _send_output\n",
            "    self.send(msg)\n",
            "  File \"/usr/lib/python3.10/http/client.py\", line 976, in send\n",
            "    self.connect()\n",
            "  File \"/usr/local/lib/python3.10/dist-packages/urllib3/connection.py\", line 243, in connect\n",
            "    self.sock = self._new_conn()\n",
            "  File \"/usr/local/lib/python3.10/dist-packages/urllib3/connection.py\", line 218, in _new_conn\n",
            "    raise NewConnectionError(\n",
            "urllib3.exceptions.NewConnectionError: <urllib3.connection.HTTPConnection object at 0x78a9a1294340>: Failed to establish a new connection: [Errno 111] Connection refused\n",
            "\n",
            "The above exception was the direct cause of the following exception:\n",
            "\n",
            "Traceback (most recent call last):\n",
            "  File \"/usr/local/lib/python3.10/dist-packages/requests/adapters.py\", line 486, in send\n",
            "    resp = conn.urlopen(\n",
            "  File \"/usr/local/lib/python3.10/dist-packages/urllib3/connectionpool.py\", line 845, in urlopen\n",
            "    retries = retries.increment(\n",
            "  File \"/usr/local/lib/python3.10/dist-packages/urllib3/util/retry.py\", line 515, in increment\n",
            "    raise MaxRetryError(_pool, url, reason) from reason  # type: ignore[arg-type]\n",
            "urllib3.exceptions.MaxRetryError: HTTPConnectionPool(host='localhost', port=4040): Max retries exceeded with url: /api/tunnels (Caused by NewConnectionError('<urllib3.connection.HTTPConnection object at 0x78a9a1294340>: Failed to establish a new connection: [Errno 111] Connection refused'))\n",
            "\n",
            "During handling of the above exception, another exception occurred:\n",
            "\n",
            "Traceback (most recent call last):\n",
            "  File \"/usr/lib/python3.10/threading.py\", line 1016, in _bootstrap_inner\n",
            "    self.run()\n",
            "  File \"/usr/lib/python3.10/threading.py\", line 1378, in run\n",
            "    self.function(*self.args, **self.kwargs)\n",
            "  File \"/usr/local/lib/python3.10/dist-packages/flask_ngrok.py\", line 70, in start_ngrok\n",
            "    ngrok_address = _run_ngrok()\n",
            "  File \"/usr/local/lib/python3.10/dist-packages/flask_ngrok.py\", line 35, in _run_ngrok\n",
            "    tunnel_url = requests.get(localhost_url).text  # Get the tunnel information\n",
            "  File \"/usr/local/lib/python3.10/dist-packages/requests/api.py\", line 73, in get\n",
            "    return request(\"get\", url, params=params, **kwargs)\n",
            "  File \"/usr/local/lib/python3.10/dist-packages/requests/api.py\", line 59, in request\n",
            "    return session.request(method=method, url=url, **kwargs)\n",
            "  File \"/usr/local/lib/python3.10/dist-packages/requests/sessions.py\", line 589, in request\n",
            "    resp = self.send(prep, **send_kwargs)\n",
            "  File \"/usr/local/lib/python3.10/dist-packages/requests/sessions.py\", line 703, in send\n",
            "    r = adapter.send(request, **kwargs)\n",
            "  File \"/usr/local/lib/python3.10/dist-packages/requests/adapters.py\", line 519, in send\n",
            "    raise ConnectionError(e, request=request)\n",
            "requests.exceptions.ConnectionError: HTTPConnectionPool(host='localhost', port=4040): Max retries exceeded with url: /api/tunnels (Caused by NewConnectionError('<urllib3.connection.HTTPConnection object at 0x78a9a1294340>: Failed to establish a new connection: [Errno 111] Connection refused'))\n"
          ]
        }
      ]
    },
    {
      "cell_type": "code",
      "source": [],
      "metadata": {
        "id": "06y_xw3fAMZz"
      },
      "execution_count": null,
      "outputs": []
    }
  ]
}